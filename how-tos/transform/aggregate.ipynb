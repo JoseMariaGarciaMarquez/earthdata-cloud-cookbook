{
 "cells": [
  {
   "cell_type": "raw",
   "id": "30168bb9-3c2a-4d06-8798-6fdac530132d",
   "metadata": {},
   "source": [
    "---\n",
    "title: Aggregate\n",
    "---"
   ]
  },
  {
   "cell_type": "markdown",
   "id": "464b5196-e927-4696-89fb-08e2448a4b9d",
   "metadata": {},
   "source": [
    "This is upcoming!"
   ]
  },
  {
   "cell_type": "code",
   "execution_count": null,
   "id": "a8070f8d-d536-4cec-8791-9451bb18d6c3",
   "metadata": {},
   "outputs": [],
   "source": []
  }
 ],
 "metadata": {
  "kernelspec": {
   "display_name": "Python 3 (ipykernel)",
   "language": "python",
   "name": "python3"
  },
  "language_info": {
   "codemirror_mode": {
    "name": "ipython",
    "version": 3
   },
   "file_extension": ".py",
   "mimetype": "text/x-python",
   "name": "python",
   "nbconvert_exporter": "python",
   "pygments_lexer": "ipython3",
   "version": "3.8.12"
  }
 },
 "nbformat": 4,
 "nbformat_minor": 5
}
