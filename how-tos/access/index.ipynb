{
 "cells": [
  {
   "cell_type": "raw",
   "id": "f1a0c7ec-5baf-41d0-8e41-e43e238717b7",
   "metadata": {},
   "source": [
    "---\n",
    "title: Access - Cloud Workflow\n",
    "---"
   ]
  },
  {
   "cell_type": "markdown",
   "id": "c555da9b-75e4-4d8c-bea9-8fa8f9bccba9",
   "metadata": {},
   "source": [
    "This will become a how-to using the `earthaccess` python library. Below is a line of code from Luis Lopez's example notebook: [Analyzing Sea Level Rise Using Earth Data in the Cloud](https://nbviewer.org/gist/betolink/b8a37c6e58da16ba7183c21e6fc731b1)"
   ]
  },
  {
   "cell_type": "code",
   "execution_count": null,
   "id": "32ca3298-b95b-47c1-b942-f57ad678f248",
   "metadata": {},
   "outputs": [],
   "source": [
    "#| eval: false\n",
    "\n",
    "auth = Auth().login(strategy=\"netrc\")"
   ]
  }
 ],
 "metadata": {
  "kernelspec": {
   "display_name": "Python 3 (ipykernel)",
   "language": "python",
   "name": "python3"
  },
  "language_info": {
   "codemirror_mode": {
    "name": "ipython",
    "version": 3
   },
   "file_extension": ".py",
   "mimetype": "text/x-python",
   "name": "python",
   "nbconvert_exporter": "python",
   "pygments_lexer": "ipython3",
   "version": "3.9.13"
  }
 },
 "nbformat": 4,
 "nbformat_minor": 5
}
