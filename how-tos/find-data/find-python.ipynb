{
 "cells": [
  {
   "cell_type": "markdown",
   "metadata": {},
   "source": [
    "# How do I find data using Python?\n"
   ]
  },
  {
   "cell_type": "markdown",
   "metadata": {},
   "source": [
    "Here are our recommended approaches for finding data with Python, from the command line or a notebook.\n",
    "\n",
    "In Python we can use the [`earthaccess`](https://nsidc.github.io/earthaccess/) library.\n"
   ]
  },
  {
   "cell_type": "markdown",
   "metadata": {},
   "source": [
    "This example searches for data from the [Land Processes DAAC](https://lpdaac.usgs.gov/) with a spatial bounding box and temporal range."
   ]
  },
  {
   "cell_type": "code",
   "execution_count": 1,
   "metadata": {
    "tags": []
   },
   "outputs": [],
   "source": [
    "## Import packages\n",
    "from earthaccess import DataGranules, DataCollections\n",
    "from pprint import pprint "
   ]
  },
  {
   "cell_type": "code",
   "execution_count": 2,
   "metadata": {
    "tags": []
   },
   "outputs": [],
   "source": [
    "## We'll get 4 collections that match with our keyword of interest\n",
    "collections = DataCollections().keyword(\"REFLECTANCE\").cloud_hosted(True).get(4)"
   ]
  },
  {
   "cell_type": "code",
   "execution_count": 3,
   "metadata": {
    "tags": []
   },
   "outputs": [
    {
     "name": "stdout",
     "output_type": "stream",
     "text": [
      "{'cloud-info': {'Region': 'us-west-2',\n",
      "                'S3BucketAndObjectPrefixNames': ['s3://lp-prod-protected/MOD09GA.061',\n",
      "                                                 's3://lp-prod-public/MOD09GA.061'],\n",
      "                'S3CredentialsAPIDocumentationURL': 'https://data.lpdaac.earthdatacloud.nasa.gov/s3credentialsREADME',\n",
      "                'S3CredentialsAPIEndpoint': 'https://data.lpdaac.earthdatacloud.nasa.gov/s3credentials'},\n",
      " 'concept-id': 'C2202497474-LPCLOUD',\n",
      " 'file-type': \"[{'Format': 'HDF-EOS2', 'FormatType': 'Native', 'Media': \"\n",
      "              \"['HTTPS', 'Earthdata Cloud']}]\",\n",
      " 'get-data': ['https://e4ftl01.cr.usgs.gov/MOLT/MOD09GA.061/',\n",
      "              'https://search.earthdata.nasa.gov/search/granules?p=C2202497474-LPCLOUD',\n",
      "              'https://appeears.earthdatacloud.nasa.gov/',\n",
      "              'https://earthexplorer.usgs.gov/'],\n",
      " 'short-name': 'MOD09GA',\n",
      " 'version': '061'}\n",
      "None The MOD09GA Version 6.1 product provides an estimate of the surface spectral reflectance of Terra Moderate Resolution Imaging Spectroradiometer (MODIS) Bands 1 through 7, corrected for atmospheric conditions such as gasses, aerosols, and Rayleigh scattering. Provided along with the 500 meter (m) surface reflectance, observation, and quality bands are a set of ten 1 kilometer (km) observation bands and geolocation flags. The reflectance layers from the MOD09GA are used as the source data for many of the MODIS land products. \n",
      "\n",
      "Validation at stage 3 (https://modis-land.gsfc.nasa.gov/MODLAND_val.html) has been achieved for the MODIS Surface Reflectance products. Further details regarding MODIS land product validation for the MOD09 data product is available from the MODIS Land Team Validation site (https://modis-land.gsfc.nasa.gov/ValStatus.php?ProductID=MOD09).\n",
      "\n",
      " Improvements/Changes from Previous Versions\n",
      "\n",
      "* The Version 6.1 Level-1B (L1B) products have been improved by undergoing various calibration changes that include: changes to the response-versus-scan angle (RVS) approach that affects reflectance bands for Aqua and Terra MODIS, corrections to adjust for the optical crosstalk in Terra MODIS infrared (IR) bands, and corrections to the Terra MODIS forward look-up table (LUT) update for the period 2012 - 2017.\n",
      "* A polarization correction has been applied to the L1B Reflective Solar Bands (RSB).\n",
      "\n",
      " \n",
      "\n",
      "{'cloud-info': {'Region': 'us-west-2',\n",
      "                'S3BucketAndObjectPrefixNames': ['s3://lp-prod-protected/MOD09GQ.061',\n",
      "                                                 's3://lp-prod-public/MOD09GQ.061'],\n",
      "                'S3CredentialsAPIDocumentationURL': 'https://data.lpdaac.earthdatacloud.nasa.gov/s3credentialsREADME',\n",
      "                'S3CredentialsAPIEndpoint': 'https://data.lpdaac.earthdatacloud.nasa.gov/s3credentials'},\n",
      " 'concept-id': 'C2343115666-LPCLOUD',\n",
      " 'file-type': \"[{'Format': 'HDF-EOS2', 'FormatType': 'Native', 'Media': \"\n",
      "              \"['HTTPS', 'Earthdata Cloud']}]\",\n",
      " 'get-data': ['https://e4ftl01.cr.usgs.gov/MOLT/MOD09GQ.061/',\n",
      "              'https://search.earthdata.nasa.gov/search?q=C2343115666-LPCLOUD',\n",
      "              'https://earthexplorer.usgs.gov/',\n",
      "              'https://appeears.earthdatacloud.nasa.gov/'],\n",
      " 'short-name': 'MOD09GQ',\n",
      " 'version': '061'}\n",
      "None The MOD09GQ Version 6.1 product provides an estimate of the surface spectral reflectance of Terra Moderate Resolution Imaging Spectroradiometer (MODIS) 250 meter (m) bands 1 and 2, corrected for atmospheric conditions such as gasses, aerosols, and Rayleigh scattering. Along with the 250 m surface reflectance bands are the Quality Assurance (QA) layer and five observation layers. This product is intended to be used in conjunction with the quality and viewing geometry information of the 500 m product (MOD09GA). \n",
      "\n",
      "Validation at stage 3 (https://modis-land.gsfc.nasa.gov/MODLAND_val.html) has been achieved for the MODIS Surface Reflectance products. Further details regarding MODIS land product validation for the MOD09 data product is available from the MODIS Land Team Validation site (https://modis-land.gsfc.nasa.gov/ValStatus.php?ProductID=MOD09).\n",
      "\n",
      "Improvements/Changes from Previous Versions\n",
      "\n",
      "* The Version 6.1 Level-1B (L1B) products have been improved by undergoing various calibration changes that include: changes to the response-versus-scan angle (RVS) approach that affects reflectance bands for Aqua and Terra MODIS, corrections to adjust for the optical crosstalk in Terra MODIS infrared (IR) bands, and corrections to the Terra MODIS forward look-up table (LUT) update for the period 2012 - 2017.\n",
      "* A polarization correction has been applied to the L1B Reflective Solar Bands (RSB). \n",
      "\n"
     ]
    }
   ],
   "source": [
    "## Let's print 2 collections\n",
    "for collection in collections[0:2]:\n",
    "    print(pprint(collection.summary()) , collection.abstract(), \"\\n\")"
   ]
  },
  {
   "cell_type": "code",
   "execution_count": 5,
   "metadata": {
    "tags": []
   },
   "outputs": [
    {
     "data": {
      "text/plain": [
       "<earthaccess.search.DataGranules at 0x7f3ca3530d60>"
      ]
     },
     "execution_count": 5,
     "metadata": {},
     "output_type": "execute_result"
    }
   ],
   "source": [
    "## Search for files from the second dataset result over a small plot in Nebraska, USA for two weeks in September 2022\n",
    "granules = DataGranules().concept_id(\"C2021957657-LPCLOUD\").temporal(\"2022-09-10\",\"2022-09-24\").bounding_box(-101.67271,41.04754,-101.65344,41.06213)\n",
    "#print(len(granules))\n",
    "granules"
   ]
  },
  {
   "cell_type": "code",
   "execution_count": null,
   "metadata": {},
   "outputs": [],
   "source": []
  }
 ],
 "metadata": {
  "kernelspec": {
   "display_name": "Python 3 (ipykernel)",
   "language": "python",
   "name": "python3"
  },
  "language_info": {
   "codemirror_mode": {
    "name": "ipython",
    "version": 3
   },
   "file_extension": ".py",
   "mimetype": "text/x-python",
   "name": "python",
   "nbconvert_exporter": "python",
   "pygments_lexer": "ipython3",
   "version": "3.9.16"
  }
 },
 "nbformat": 4,
 "nbformat_minor": 4
}
