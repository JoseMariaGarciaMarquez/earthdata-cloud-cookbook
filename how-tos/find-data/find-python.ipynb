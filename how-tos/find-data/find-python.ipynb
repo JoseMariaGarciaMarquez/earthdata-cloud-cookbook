{
  "cells": [
    {
      "cell_type": "raw",
      "metadata": {},
      "source": [
        "---\n",
        "title: \"How do I find data using Python?\"\n",
        "execute:\n",
        "  eval: false\n",
        "---"
      ]
    },
    {
      "cell_type": "markdown",
      "metadata": {},
      "source": [
        "Here are our recommended approaches for finding data with Python, from the command line or a notebook.\n",
        "\n",
        "In Python we can use the [`earthaccess`](https://nsidc.github.io/earthaccess/) library (renamed, previously `earthdata`)\n",
        "\n",
        "To install the package we'll run this code from the command line. Note: you can run shell code directly from a Jupyter Notebook cell by adding a `!`, so it would be `!conda install`.\n",
        "\n",
        "```bash\n",
        "## In the command line\n",
        "## Install earthaccess\n",
        "conda install -c conda-forge earthaccess\n",
        "```\n",
        "\n",
        "This example searches for data from the [Land Processes DAAC](https://lpdaac.usgs.gov/) with a spatial bounding box and temporal range.\n",
        "\n",
        "```python\n",
        "## In Python\n",
        "## Import packages\n",
        "from earthaccess import DataGranules, DataCollections\n",
        "from pprint import pprint \n",
        "\n",
        "\n",
        "## We'll get 4 collections that match with our keyword of interest\n",
        "collections = DataCollections().keyword(\"REFLECTANCE\").cloud_hosted(True).get(4)\n",
        "\n",
        "## Let's print 2 collections\n",
        "for collection in collections[0:2]:\n",
        "    print(pprint(collection.summary()) , collection.abstract(), \"\\n\")\n",
        "    \n",
        "## Search for files from the second dataset result over a small plot in Nebraska, USA for two weeks in September 2022\n",
        "granules = DataGranules().concept_id(\"C2021957657-LPCLOUD\").temporal(\"2022-09-10\",\"2022-09-24\").bounding_box(-101.67271,41.04754,-101.65344,41.06213)\n",
        "print(len(granules))\n",
        "granules\n",
        "```"
      ]
    }
  ],
  "metadata": {
    "kernelspec": {
      "display_name": "Python 3",
      "language": "python",
      "name": "python3"
    }
  },
  "nbformat": 4,
  "nbformat_minor": 4
}