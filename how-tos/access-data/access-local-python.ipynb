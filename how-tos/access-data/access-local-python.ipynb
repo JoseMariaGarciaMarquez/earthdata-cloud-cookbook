{
  "cells": [
    {
      "cell_type": "raw",
      "metadata": {},
      "source": [
        "---\n",
        "title: How do I access Cloud Data from my Local Machine in Python?\n",
        "execute:\n",
        "    eval: false\n",
        "---"
      ]
    },
    {
      "cell_type": "markdown",
      "metadata": {},
      "source": [
        "## Downloading data\n",
        "\n",
        "When you have found the data you want to use, you have two options.  You can download the data to work locally, or access the data directly to work in the cloud. This second way of working is called \"_Direct Cloud Access_\" or simply, \"_Direct Access_\". \n",
        "\n",
        "This page covers two situations of downloading data from Earthdata Cloud to your local machine:\n",
        "\n",
        "* Downloading data using the `earthaccess` library\n",
        "* Downloading data from an OPeNDAP server\n",
        "\n",
        "## earthaccess\n",
        "\n",
        "We can use the [`earthaccess`](https://nsidc.github.io/earthaccess/) python library to grab the file URLs and then access them with the `xarray` library. \n",
        "\n",
        "\n",
        "```python\n",
        "#Import packages\n",
        "import earthaccess\n",
        "import xarray as xr\n",
        "\n",
        "#Authentication with Earthdata Login\n",
        "auth = earthaccess.login(strategy=\"netrc\")\n",
        "\n",
        "#Access land ice height from ATLAS/ICESat-2 V005 (10.5067/ATLAS/ATL06.005), searching for data over western Greenland coast over two weeks in July 2022. The data are provided as HDF5 granules (files) that span about 1/14th of an orbit.\n",
        "\n",
        "results = earthaccess.search_data(short_name=\"ATL06\",\n",
        "                                  version=\"005\",\n",
        "                                  cloud_hosted=True,\n",
        "                                  temporal = (\"2022-07-17\",\"2022-07-31\"),\n",
        "                                  bounding_box = (-51.96423,68.10554,-48.71969,70.70529))\n",
        "\n",
        "files = earthaccess.download(results, \"./local_folder\")\n",
        "\n",
        "#Use xarray to load the data as a multifile dataset for a single group in the HDF5 file, in this case land ice segments:\n",
        "ds = xr.open_mfdataset(files, group='/gt1l/land_ice_segments')\n",
        "ds\n",
        "```\n"
      ]
    }
  ],
  "metadata": {
    "kernelspec": {
      "display_name": "Python 3",
      "language": "python",
      "name": "python3"
    }
  },
  "nbformat": 4,
  "nbformat_minor": 4
}