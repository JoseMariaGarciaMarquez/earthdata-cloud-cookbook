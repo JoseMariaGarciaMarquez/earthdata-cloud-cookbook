{
 "cells": [
  {
   "cell_type": "raw",
   "id": "de3a7a93-0927-406b-ace0-543141f6fd61",
   "metadata": {},
   "source": [
    "---\n",
    "title: Data access demo\n",
    "---"
   ]
  },
  {
   "cell_type": "markdown",
   "id": "8353d6be-5458-4c56-820c-951fbfce527c",
   "metadata": {},
   "source": [
    "## Jupyter Notebook that demonstrates how to access data\n",
    "\n",
    "See outline for more details. \n",
    "This file can be replaced by a real .ipynb example."
   ]
  }
 ],
 "metadata": {
  "kernelspec": {
   "display_name": "Python 3 (ipykernel)",
   "language": "python",
   "name": "python3"
  },
  "language_info": {
   "codemirror_mode": {
    "name": "ipython",
    "version": 3
   },
   "file_extension": ".py",
   "mimetype": "text/x-python",
   "name": "python",
   "nbconvert_exporter": "python",
   "pygments_lexer": "ipython3",
   "version": "3.9.12"
  }
 },
 "nbformat": 4,
 "nbformat_minor": 5
}
