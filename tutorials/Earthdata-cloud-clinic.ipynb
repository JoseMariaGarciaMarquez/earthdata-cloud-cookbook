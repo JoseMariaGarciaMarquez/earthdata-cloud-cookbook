{
 "cells": [
  {
   "cell_type": "raw",
   "id": "d00560f9-1def-4210-b97c-34de75e49f0a",
   "metadata": {},
   "source": [
    "---\n",
    "title: \"NASA Earthdata Cloud Clinic\"\n",
    "aliases:\n",
    "  - /examples/Earthdata-cloud-clinic.html\n",
    "---"
   ]
  },
  {
   "cell_type": "markdown",
   "id": "bf218d52-4c89-48a1-bbb0-567e2378e0db",
   "metadata": {},
   "source": [
    "## Summary\n",
    "\n",
    "Welcome to the NASA Earthdata Cloud Clinic! \n",
    "\n",
    "We will focus on NASA Earthdata **search & access in the cloud**.\n",
    "\n",
    "- We will use **[`earthaccess`](https://earthaccess.readthedocs.io/en/latest)** for data search and direct cloud access, followed by [`xarray`](https://docs.xarray.dev/en/stable/) for subsetting. Both are open source python libraries. We will also discover data using [Earthdata Search](https://search.earthdata.nasa.gov/search/granules?p=C2270392799-POCLOUD&pg[0][v]=f&pg[0][gsk]=-start_date&q=measures%20ssh%20anomalies&tl=1685392107!3!!).\n",
    "    \n",
    "- We will be accessing data directly from the **NASA Earthdata Cloud** hosted in Amazon Web Services (AWS) Cloud, specifically in the us-west-2 region. This shared compute environment (JupyterHub) is also running in the same location in the AWS Cloud. We will then load the data into Python as an `xarray` dataset.\n",
    "\n",
    "- See second part of this notebook for examples using subsetting servises to downselect and work with data for your use case.\n",
    "\n",
    "- See the bottom of the notebook for additional resources, including several tutorials that served as a foundation for this clinic. \n",
    "\n",
    "#### A note on `earthaccess` python library\n",
    "\n",
    "In this example we will use the `earthaccess` library to search for data collections from NASA Earthdata. `earthaccess` is a Python library that simplifies data discovery and access to NASA Earth science data by providing an abstraction layer for NASA’s [Common Metadata Repository (CMR)](https://cmr.earthdata.nasa.gov/search/site/docs/search/api.html) API Search API. The library makes searching for data more approachable by using a simpler notation instead of low level HTTP queries. `earthaccess` takes the trouble out of Earthdata Login **authentication**, makes **search** easier, and provides a stream-line way to **download** or **stream search results** into an `xarray` object for easy data **access**. It can be used on and off the cloud.\n",
    "\n",
    "For more on `earthaccess` visit the [`earthaccess` documentation site](https://earthaccess.readthedocs.io/en/latest/). Be aware that `earthaccess` is under active development, and your use and feedback help improve it!\n",
    "\n",
    "#### A note on subsetting\n",
    "\n",
    "In addition to directly accessing the files archived and distributed by each of the NASA DAACs, many datasets also support services that allow us to customize the data via subsetting, reformatting, reprojection/regridding, and file aggregation. What does subsetting mean? Here's a generalized graphic of what we mean. \n",
    "\n",
    "![](images/subsetting_diagram.png){fig-alt=\"Three maps of the United States are present, with a red bounding box over the state of Colorado. Filtering and subsetting are demonstrated by overlaying SMAP L2 data, with data overlapping and cropping the rectangle, respectively.\"  width=60%}\n",
    "\n",
    "#### A note on jargon: \n",
    "\"direct cloud access\" goes by several other names including \"direct S3 access\", \"direct access\", \"direct in-region access\", \"in-cloud data streaming\". And \"subsetting\" is also called \"transformation\".\n",
    "\n",
    "## Learning Objectives\n",
    "\n",
    "1. Utilize the `earthaccess` python library to search for data using spatial and temporal filters and explore search results\n",
    "2. Stream data (i.e. perform in-region direct access of data) from an Amazon Simple Storage Service (S3) bucket where NASA Earthdata data is archived into our own cloud workspace, here in the Jupyter Lab/Notebook.\n",
    "3. Extract variables and spatial slices from an `xarray` dataset \n",
    "4. Plot data<br>\n",
    "-- \n",
    "5. Conceptualize data subsetting services provided by NASA Earthdata, including Harmony\n",
    "6. Plot a polygon geojson file with a basemap using `geoviews` "
   ]
  },
  {
   "cell_type": "markdown",
   "id": "b962cdc1-5bfc-42ad-b522-e870822f9540",
   "metadata": {},
   "source": [
    "***"
   ]
  },
  {
   "cell_type": "markdown",
   "id": "9488de1c-9177-405a-b957-92045aad16ec",
   "metadata": {
    "tags": []
   },
   "source": [
    "## Prerequisites\n",
    "\n",
    "First we'll **import** python packages and **set our authentication** that will be used for both of our access and subsetting methods.\n",
    "\n",
    "**This tutorial is meant to be run in the AWS cloud in the us-west-2 region.** You'll need to be aware that data in NASA's Earthdata Cloud reside in Amazon Web Services (AWS) Simple Storage Service (S3) buckets. Access is provided via temporary credentials; this free access is limited to requests made within the US West (Oregon) (code: us-west-2) AWS region. While this compute location is required for direct S3 access, all data in Earthdata Cloud are still freely available via download. "
   ]
  },
  {
   "cell_type": "markdown",
   "id": "b35fcbf7-37cc-477e-be92-3d767e06dbe4",
   "metadata": {},
   "source": [
    "### Import Required Packages"
   ]
  },
  {
   "cell_type": "code",
   "execution_count": null,
   "id": "1a6fad23-fa66-4e3d-818b-96f797025b00",
   "metadata": {
    "tags": []
   },
   "outputs": [],
   "source": [
    "# Suppress warnings\n",
    "import warnings\n",
    "warnings.simplefilter('ignore')\n",
    "warnings.filterwarnings('ignore')\n",
    "\n",
    "# Search & Access\n",
    "import earthaccess \n",
    "from pprint import pprint\n",
    "import xarray as xr\n",
    "import hvplot.xarray #plot\n",
    "\n",
    "# Harmony services\n",
    "import geopandas as gpd\n",
    "import geoviews as gv\n",
    "gv.extension('bokeh', 'matplotlib')\n",
    "from harmony import BBox, Client, Collection, Request, LinkType\n",
    "import datetime as dt\n",
    "import s3fs\n",
    "%matplotlib inline"
   ]
  },
  {
   "cell_type": "markdown",
   "id": "c4d8a614-de01-4905-949c-17588d9a623f",
   "metadata": {},
   "source": [
    "### Authentication for NASA Earthdata \n",
    "\n",
    "An Earthdata Login account is required to access data from the NASA Earthdata system. If you don't already have one, visit <https://urs.earthdata.nasa.gov> to register and manage your Earthdata Login account. This account is free to create and only takes a moment to set up.\n",
    "\n",
    "The first step is to get the correct authentication that will allow us to get cloud-hosted data from NASA. This is all done through Earthdata Login. We can use the `earthaccess` library here, where the `login` method also gets the correct AWS credentials.\n",
    "\n",
    "The first time you run this it will ask you for your Earthdata Login username and password, and stores it in a .netrc file. After that, each time you authenticate with `auth = earthaccess.login()` it will log you in automatically. "
   ]
  },
  {
   "cell_type": "code",
   "execution_count": null,
   "id": "938cefcd-63e5-4118-8500-45e74d6dfc89",
   "metadata": {
    "tags": []
   },
   "outputs": [],
   "source": [
    "# auth = earthaccess.login(strategy=\"interactive\", persist=True)\n",
    "auth = earthaccess.login()"
   ]
  },
  {
   "cell_type": "markdown",
   "id": "5d657150-fae1-4ddd-b362-dd75d8038e83",
   "metadata": {
    "tags": []
   },
   "source": [
    "## 1. [`earthaccess`](https://github.com/nsidc/earthaccess) + [`xarray`](https://docs.xarray.dev/en/stable/) \n",
    "\n",
    "`earthaccess` python library is an open-source library to simplify Earthdata Cloud search and access."
   ]
  },
  {
   "cell_type": "markdown",
   "id": "87ab966f-d1c8-4293-9d26-82e8ecb53b8c",
   "metadata": {},
   "source": [
    "### Search for data\n",
    "\n",
    "There are multiple keywords we can use to discovery data from collections such as `short_name`, `concept_id`, and `doi`. The table below contains the `short_name` for some collections we are interested in for other exercises. Each of these can be used to search for data or information related to the collection we are interested in.\n",
    "\n",
    "| Shortname | Description | Example Temporal/Spatial parameters | \n",
    "| --- | --- | --- |\n",
    "| SEA_SURFACE_HEIGHT_ALT_GRIDS_L4_2SATS_5DAY_6THDEG_V_JPL2205 | gridded Sea Surface Height Anomalies (SSHA) above a mean sea surface, on a 1/6th degree grid every 5 days. | temporal=(\"2021-07-01\", \"2021-09-30\") |\n",
    "| MUR25-JPL-L4-GLOB-v04.2 | MUR Sea Surface Temperature | temporal=(\"2023-07-01\", \"2023-07-03\") |\n",
    "| SMAP_RSS_L3_SSS_SMI_8DAY-RUNNINGMEAN_V5 | SMAP Sea Surface Salinity 8 day running mean | temporal=(\"2019-08-01T00:00:00\", \"2019-10-01T00:00:00\") |\n",
    "\n",
    "But wait...You may be asking \"how can we find the `short_name` for collections not in the table above?\". \n",
    "\n",
    "--> Let's take a quick detour and head to **[Earthdata Search](https://search.earthdata.nasa.gov)** GUI to gather more information about our dataset of interest. The dataset \"short name\" can be found by clicking on the Info button on our collection search result, and we can paste that into a python variable.\n",
    "\n",
    "\n",
    "(Side Note: Both **`earthaccess` python libray** and the **Earthdata Search (GUI)** leverage the [Common Metadata Repository (CMR) API](https://cmr.earthdata.nasa.gov/search/site/docs/search/api.html) to search for collections and granules.) \n",
    "\n",
    "Here we use the `search_data` function of `earthaccess` to query based on the `short_name` of interest, as well as other paramters such as temporal range:"
   ]
  },
  {
   "cell_type": "code",
   "execution_count": null,
   "id": "9570f2b0-248a-489c-9691-2850209c3a92",
   "metadata": {},
   "outputs": [],
   "source": [
    "data_name = \"SEA_SURFACE_HEIGHT_ALT_GRIDS_L4_2SATS_5DAY_6THDEG_V_JPL2205\"\n",
    "\n",
    "results = earthaccess.search_data(\n",
    "    short_name=data_name,\n",
    "    cloud_hosted=True,\n",
    "    temporal=(\"2021-07-01\", \"2021-09-30\"),\n",
    ")"
   ]
  },
  {
   "cell_type": "markdown",
   "id": "b3f46ba2-eafa-472a-8ba4-24a67ee69560",
   "metadata": {},
   "source": [
    "According to PO.DAAC's dataset [landing page](https://podaac.jpl.nasa.gov/dataset/SEA_SURFACE_HEIGHT_ALT_GRIDS_L4_2SATS_5DAY_6THDEG_V_JPL2205), gridded Sea Surface Height Anomalies (SSHA) above a mean sea surface are provided. The data are produced on a 1/6th degree grid every 5 days."
   ]
  },
  {
   "cell_type": "markdown",
   "id": "c1db512c-9f43-4da7-ae79-562f0ddbd1eb",
   "metadata": {},
   "source": [
    "We can discover more information about the matching files:"
   ]
  },
  {
   "cell_type": "code",
   "execution_count": null,
   "id": "3ae10e87-e1da-4a73-92e8-6ce7de141243",
   "metadata": {
    "tags": []
   },
   "outputs": [],
   "source": [
    "pprint(results[0])"
   ]
  },
  {
   "cell_type": "markdown",
   "id": "827f9971-a344-4a18-b3fc-8ef250be99e4",
   "metadata": {},
   "source": [
    "### Access data\n",
    "\n",
    "Since we are working in the AWS `us-west-2` region, we can **stream data** directly to `xarray`. We are using the `open_mfdataset()` (multi-file) method, which is required when using `earthaccess`.\n",
    "\n",
    "(Tips: To open a single file, if troubleshooting for example:\n",
    "`ds = xr.open_dataset(earthaccess.open(results)[0])`)"
   ]
  },
  {
   "cell_type": "code",
   "execution_count": null,
   "id": "e8e178e1-cea1-497a-942d-05091a2e82b1",
   "metadata": {
    "tags": []
   },
   "outputs": [],
   "source": [
    "ds = xr.open_mfdataset(earthaccess.open(results))\n",
    "ds"
   ]
  },
  {
   "cell_type": "markdown",
   "id": "db7b9d40-18fa-4077-86a5-88b69bb94879",
   "metadata": {},
   "source": [
    "#### Plot the data"
   ]
  },
  {
   "cell_type": "markdown",
   "id": "f638a262-e04d-4eb4-82d0-ec865e1c4ff6",
   "metadata": {},
   "source": [
    "Let's make a quick interactive plot of the data using an open source tool call `hvplot`. Because our data is 3d and has a time component, we can also preview the data over time, using the slider of hvplot. "
   ]
  },
  {
   "cell_type": "code",
   "execution_count": null,
   "id": "a838a207-932e-47a3-a008-74b21a9d7f3c",
   "metadata": {},
   "outputs": [],
   "source": [
    "ds.SLA.hvplot.image(x='Longitude', y='Latitude', cmap='RdBu', clim=(-2,2), title=\"Sea Level Anomaly Estimate (m)\")"
   ]
  },
  {
   "cell_type": "markdown",
   "id": "324b73b1-ea96-4a36-883d-7b644181f5ea",
   "metadata": {
    "editable": true,
    "slideshow": {
     "slide_type": ""
    },
    "tags": []
   },
   "source": [
    "### Subset data \n",
    "We can create a subsetted xarray dataset by extracting the SLA variable and slicing the dataset by a smaller area of interest near the state of Baja, Mexico. "
   ]
  },
  {
   "cell_type": "code",
   "execution_count": null,
   "id": "09294c2c-359c-4632-b120-d73fe253e3bb",
   "metadata": {
    "editable": true,
    "slideshow": {
     "slide_type": ""
    },
    "tags": []
   },
   "outputs": [],
   "source": [
    "ds_subset = ds['SLA'].sel(Latitude=slice(15.8, 35.9), Longitude=slice(234.5,260.5)) \n",
    "ds_subset"
   ]
  },
  {
   "cell_type": "code",
   "execution_count": null,
   "id": "7fa9eead-b8e9-44b1-9c25-84af328abcbd",
   "metadata": {},
   "outputs": [],
   "source": [
    "ds_subset.hvplot.image(x='Longitude', y='Latitude', cmap='RdBu', clim=(-0.5, 0.5), title=\"Sea Level Anomaly Estimate (m)\")"
   ]
  },
  {
   "cell_type": "markdown",
   "id": "849b06eb-9c05-4810-8bf7-4912a2ed9d27",
   "metadata": {},
   "source": [
    "***********"
   ]
  },
  {
   "cell_type": "markdown",
   "id": "f80a1cc1-1fe0-4489-b790-181423d87bfd",
   "metadata": {},
   "source": [
    "## Exercise \n",
    "**Let's explore other datasets from the table above**\n",
    "\n",
    "##### MUR SST"
   ]
  },
  {
   "cell_type": "code",
   "execution_count": null,
   "id": "bd6abc43-2766-419e-8d99-87b29e864efe",
   "metadata": {},
   "outputs": [],
   "source": [
    "data_name = \"MUR25-JPL-L4-GLOB-v04.2\"\n",
    "\n",
    "sst_results = earthaccess.search_data(\n",
    "    short_name=data_name,\n",
    "    cloud_hosted=True,\n",
    "    temporal=(\"2023-07-01\", \"2023-07-03\"),  \n",
    ")"
   ]
  },
  {
   "cell_type": "code",
   "execution_count": null,
   "id": "573dfeb8-4deb-4003-a7d9-be250880c2df",
   "metadata": {},
   "outputs": [],
   "source": [
    "pprint(sst_results[0])"
   ]
  },
  {
   "cell_type": "code",
   "execution_count": null,
   "id": "2784af87-e71b-42cd-b1f3-09432a314c63",
   "metadata": {},
   "outputs": [],
   "source": [
    "ds = xr.open_mfdataset(earthaccess.open(sst_results))\n",
    "ds"
   ]
  },
  {
   "cell_type": "code",
   "execution_count": null,
   "id": "ced3173c-b0dd-4346-be9d-7c392d747c37",
   "metadata": {},
   "outputs": [],
   "source": [
    "ds.sst_anomaly.hvplot.image(x='lon', y='lat', cmap='RdBu', clim=(-5,5), title=\"Sea Surface Temperature Anomaly (K)\")"
   ]
  },
  {
   "cell_type": "markdown",
   "id": "189f06a1-ccab-4f44-b679-ce015988189e",
   "metadata": {},
   "source": [
    "##### SMAP Sea Surface Salinity "
   ]
  },
  {
   "cell_type": "code",
   "execution_count": null,
   "id": "9ed58b5c-0346-45e3-9afe-c38b0bd90cae",
   "metadata": {},
   "outputs": [],
   "source": [
    "data_name=\"SMAP_RSS_L3_SSS_SMI_8DAY-RUNNINGMEAN_V5\"\n",
    "\n",
    "smap_results = earthaccess.search_data(\n",
    "    short_name=data_name,\n",
    "    cloud_hosted=True,\n",
    "    temporal=(\"2019-08-01T00:00:00\", \"2019-10-01T00:00:00\"),\n",
    ")"
   ]
  },
  {
   "cell_type": "code",
   "execution_count": null,
   "id": "c3a9b84b-c2ca-4719-beba-fc2a386beb14",
   "metadata": {},
   "outputs": [],
   "source": [
    "pprint(smap_results[0])"
   ]
  },
  {
   "cell_type": "code",
   "execution_count": null,
   "id": "6fbce228-8986-4995-91a8-9629e128435e",
   "metadata": {},
   "outputs": [],
   "source": [
    "ds = xr.open_mfdataset(earthaccess.open(smap_results))\n",
    "ds"
   ]
  },
  {
   "cell_type": "code",
   "execution_count": null,
   "id": "5484b338-5fe9-4097-b856-b849262945de",
   "metadata": {},
   "outputs": [],
   "source": [
    "ds.sss_smap.hvplot.image(x='lon', y='lat', cmap='plasma', clim=(20, 32), title=\"SMAP_RSS_L3_SSS_SMI_8DAY-RUNNINGMEAN_V5\")"
   ]
  },
  {
   "cell_type": "code",
   "execution_count": null,
   "id": "decd4cfd-d1df-4c36-8638-1cdd97ccb92d",
   "metadata": {},
   "outputs": [],
   "source": [
    "ds_subset = ds['sss_smap'].sel(lat=slice(61, 75), lon=slice(160,170)) \n",
    "ds_subset"
   ]
  },
  {
   "cell_type": "code",
   "execution_count": null,
   "id": "bf532cad-1382-4aab-8fb3-1b917a17ebc3",
   "metadata": {},
   "outputs": [],
   "source": [
    "ds_subset.hvplot.image(x='lon', y='lat', cmap='plasma', clim=(0, 45), title=\"SMAP_RSS_L3_SSS_SMI_8DAY-RUNNINGMEAN_V5\")"
   ]
  },
  {
   "cell_type": "markdown",
   "id": "29e3c055-3d31-4371-94d6-303d2836790f",
   "metadata": {},
   "source": [
    "***"
   ]
  },
  {
   "cell_type": "markdown",
   "id": "ddf55de4-5c42-43f7-b121-c0194874c543",
   "metadata": {},
   "source": [
    "##### Spatial search tip:\n",
    "To narrow down your search based on a geographic bounding box, we can pass the `bounding_box=` paramters to `earthaccess`, as in the example below:<br>\n",
    "    #bounding_box=(lower_left_lon, lower_left_lat, upper_right_lon, upper_right_lat)<br>\n",
    "    bounding_box=(-99, 18.19232, -78.85547, 31.23754) "
   ]
  },
  {
   "cell_type": "markdown",
   "id": "4071ca44-9a16-480b-9d52-13dfdf21b0e6",
   "metadata": {},
   "source": [
    "------------"
   ]
  },
  {
   "cell_type": "markdown",
   "id": "83f592e5-1d32-4507-934b-2991fc8d3895",
   "metadata": {},
   "source": [
    "------------"
   ]
  },
  {
   "cell_type": "markdown",
   "id": "f1a2831f-dbb8-4a10-9f69-63d9ca4790a7",
   "metadata": {},
   "source": [
    "----"
   ]
  },
  {
   "cell_type": "markdown",
   "id": "ad8b8d37-cc33-48ec-9145-a702dde0ee79",
   "metadata": {
    "tags": []
   },
   "source": [
    "##  2. `Harmony-py` + `xarray`\n",
    "\n",
    "_**Bonus cloud clinic topic that we won't cover live together: subsetting with Earthdata Harmony API services**_\n",
    "\n",
    "We can also use **the [Harmony-py](https://github.com/nasa/harmony-py) python library** for direct cloud access & data subsetting:\n",
    "    * Requesting a subset of data from the [GHRSST Level 4 MUR Global Foundation Sea Surface Temperature Analysis (v4.1)](https://podaac.jpl.nasa.gov/dataset/MUR-JPL-L4-GLOB-v4.1) dataset using a vector-based geospatial file.\n",
    "    * This dataset can also be viewed in [Earthdata Search](https://search.earthdata.nasa.gov/search?q=GHRSST%20Level%204%20MUR%20v4.1&ff=Available%20in%20Earthdata%20Cloud!Customizable). \n",
    "\n",
    "[`harmony-py`](https://github.com/nasa/harmony-py) + [`xarray`](https://docs.xarray.dev/en/stable/) \n",
    "\n",
    "We will be accessing a subsetted NetCDF-4 file using Transformation Services in the Cloud. \n",
    "\n",
    "Using [Earthdata Search](https://search.earthdata.nasa.gov/search?q=GHRSST%20Level%204%20MUR%20v4.1&ff=Available%20in%20Earthdata%20Cloud!Customizable), we can find datasets that support these services using the \"Customizable\" filter. \n",
    "\n",
    "We will find, request, and open customized data using [Harmony](https://harmony.earthdata.nasa.gov/), below."
   ]
  },
  {
   "cell_type": "markdown",
   "id": "9bca030c-38a0-4118-a317-7a74f62cae60",
   "metadata": {},
   "source": [
    "### Define area of interest\n",
    "\n",
    "First, use `geopandas` to read in a geojson file containing a polygon feature over the Gulf of Mexico. The geojson file is found in the ~/data directory. "
   ]
  },
  {
   "cell_type": "code",
   "execution_count": null,
   "id": "be657f21-bf7a-4fef-b2d7-4141a3cd5de3",
   "metadata": {
    "tags": []
   },
   "outputs": [],
   "source": [
    "geojson_path = './data/gulf.json'\n",
    "gdf = gpd.read_file(geojson_path) #Return a GeoDataFrame object"
   ]
  },
  {
   "cell_type": "markdown",
   "id": "097684e8-40df-4c22-ba28-91c3499155b9",
   "metadata": {},
   "source": [
    "We can plot the polygon using the `geoviews` package that we imported as gv with ‘bokeh’ and ‘matplotlib’ extensions. The following has reasonable width, height, color, and line widths to view our polygon when it is overlayed on a base tile map. We can view this with the `*` operator."
   ]
  },
  {
   "cell_type": "code",
   "execution_count": null,
   "id": "aa980572-a8f2-4324-93bf-c3e4f7102a96",
   "metadata": {
    "tags": []
   },
   "outputs": [],
   "source": [
    "base = gv.tile_sources.EsriImagery.opts(width=650, height=500)\n",
    "ocean_map = gv.Polygons(gdf).opts(line_color='yellow', line_width=5, color=None)\n",
    "base * ocean_map"
   ]
  },
  {
   "cell_type": "markdown",
   "id": "e2ce6fc6-1f2c-45a0-a824-c67f29a83e35",
   "metadata": {
    "tags": []
   },
   "source": [
    "### Create a subset request"
   ]
  },
  {
   "cell_type": "markdown",
   "id": "86d05f77-8c21-4c7e-b865-b191398f93ae",
   "metadata": {},
   "source": [
    "Here we'll create a request for a spatial subset of data.\n",
    "\n",
    "First, we need to create a Harmony Client, which is what we will interact with to submit and inspect a data request to Harmony, as well as to retrieve results.\n",
    "\n",
    "When creating the Client, we need to provide Earthdata Login credentials. This basic line below assumes that we have a `.netrc` available. See the Earthdata Cloud Cookbook [appendix](https://nasa-openscapes.github.io/earthdata-cloud-cookbook/appendix/authentication.html) for more information on [Earthdata Login](https://urs.earthdata.nasa.gov/) and netrc setup. "
   ]
  },
  {
   "cell_type": "code",
   "execution_count": null,
   "id": "0387b657-10aa-4503-8454-3a7438734dbd",
   "metadata": {
    "tags": []
   },
   "outputs": [],
   "source": [
    "harmony_client = Client()"
   ]
  },
  {
   "cell_type": "markdown",
   "id": "c21f5aef-8427-4ae7-8238-8c8adee8347d",
   "metadata": {},
   "source": [
    "See the [harmony-py documentation](https://harmony-py.readthedocs.io/en/latest/) for details on how to construct your request."
   ]
  },
  {
   "cell_type": "code",
   "execution_count": null,
   "id": "2d2f1aa6-3b71-4b6f-a321-3c9d7eef8234",
   "metadata": {
    "tags": []
   },
   "outputs": [],
   "source": [
    "sst_short_name=\"MUR-JPL-L4-GLOB-v4.1\"\n",
    "\n",
    "request = Request(\n",
    "    collection=Collection(id=sst_short_name),\n",
    "    shape=geojson_path,\n",
    "    temporal={\n",
    "    'start': dt.datetime(2021, 8, 1, 1),\n",
    "    'stop': dt.datetime(2021, 8, 1, 2)   \n",
    "    },\n",
    ")"
   ]
  },
  {
   "cell_type": "markdown",
   "id": "6fdc83c1-a2ea-41bb-b319-48fde922bf8d",
   "metadata": {},
   "source": [
    "### Submit a subset request\n",
    "\n",
    "Now that the request is created, we can now submit it to Harmony using the Harmony Client object. A job id is returned, which is a unique identifier that represents the submitted request."
   ]
  },
  {
   "cell_type": "code",
   "execution_count": null,
   "id": "fe541923-f17e-4027-831b-e35004b1c36f",
   "metadata": {
    "tags": []
   },
   "outputs": [],
   "source": [
    "job_id = harmony_client.submit(request)\n",
    "job_id"
   ]
  },
  {
   "cell_type": "markdown",
   "id": "c0e74e62-aacd-4dff-ac45-5e9f322f0677",
   "metadata": {},
   "source": [
    "### Check request status"
   ]
  },
  {
   "cell_type": "markdown",
   "id": "71a49cb5-6e27-42c6-83a0-0d88f50e9fb8",
   "metadata": {},
   "source": [
    "Depending on the size of the request, it may be helpful to wait until the request has completed processing before the remainder of the code is executed. The wait_for_processing() method will block subsequent lines of code while optionally showing a progress bar."
   ]
  },
  {
   "cell_type": "code",
   "execution_count": null,
   "id": "a414eaaa-0b84-4023-ab72-d49c068c1470",
   "metadata": {
    "tags": []
   },
   "outputs": [],
   "source": [
    "harmony_client.wait_for_processing(job_id, show_progress=True)"
   ]
  },
  {
   "cell_type": "markdown",
   "id": "2d17ff08-1a87-439e-8399-db24b1844c7d",
   "metadata": {},
   "source": [
    "We can view Harmony job response and output URLs\n",
    "Once the data request has finished processing, we can view details on the job that was submitted to Harmony, including the API call to Harmony, and informational messages on the request if available.\n",
    "\n",
    "`result_json()` calls `wait_for_processing()` and returns the complete job in JSON format once processing is complete. "
   ]
  },
  {
   "cell_type": "code",
   "execution_count": null,
   "id": "daee7ccf-fc54-4f07-9223-f724d968c3e9",
   "metadata": {
    "tags": []
   },
   "outputs": [],
   "source": [
    "data = harmony_client.result_json(job_id)\n",
    "pprint(data)"
   ]
  },
  {
   "cell_type": "markdown",
   "id": "ee7948bd-433e-428c-a4c0-a9651e8775dc",
   "metadata": {
    "tags": []
   },
   "source": [
    "### Access data\n",
    "\n",
    "Just like above, the subsetted outputs produced by Harmony can be accessed directly from the cloud. \n",
    "\n",
    "First, we'll retrieve list of output URLs.\n",
    "\n",
    "The `result_urls()` method calls `wait_for_processing()` and returns a list of the processed data URLs once processing is complete. You may optionally show the progress bar as shown below."
   ]
  },
  {
   "cell_type": "code",
   "execution_count": null,
   "id": "924317f8-74de-4937-bf91-1e4e408ca9f2",
   "metadata": {
    "tags": []
   },
   "outputs": [],
   "source": [
    "results = harmony_client.result_urls(job_id, link_type=LinkType.s3)\n",
    "urls = list(results)\n",
    "url = urls[0]\n",
    "print(url)"
   ]
  },
  {
   "cell_type": "markdown",
   "id": "03b62050-88ad-4c50-9d38-6fabf36dc612",
   "metadata": {},
   "source": [
    "Using `aws_credentials` you can retrieve the credentials needed to access the Harmony s3 staging bucket and its contents."
   ]
  },
  {
   "cell_type": "code",
   "execution_count": null,
   "id": "86419068-0d82-4cd1-84d1-eb59b699e07b",
   "metadata": {
    "tags": []
   },
   "outputs": [],
   "source": [
    "creds = harmony_client.aws_credentials()"
   ]
  },
  {
   "cell_type": "markdown",
   "id": "111a10c1-f72c-46f5-9b22-3b3eabb7b179",
   "metadata": {
    "tags": []
   },
   "source": [
    "### Open staged files with *s3fs* and *xarray*\n",
    "\n",
    "We use the AWS `s3fs` package to create a file system that can then be read by xarray:"
   ]
  },
  {
   "cell_type": "code",
   "execution_count": null,
   "id": "db3eb41d-d059-4ffb-b2b3-8675f238e874",
   "metadata": {
    "tags": []
   },
   "outputs": [],
   "source": [
    "s3_fs = s3fs.S3FileSystem(\n",
    "    key=creds['aws_access_key_id'],\n",
    "    secret=creds['aws_secret_access_key'],\n",
    "    token=creds['aws_session_token'],\n",
    "    client_kwargs={'region_name':'us-west-2'},\n",
    ")"
   ]
  },
  {
   "cell_type": "markdown",
   "id": "60b411be-49be-47a5-bad2-e3cceec250fd",
   "metadata": {},
   "source": [
    "Now that we have our s3 file system set, including our declared credentials, we'll use that to open the url, and read in the file through xarray. This extra step is needed because xarray cannot open the S3 location directly. Instead, the S3 file object is passed to xarray, in order to then open the dataset. "
   ]
  },
  {
   "cell_type": "code",
   "execution_count": null,
   "id": "93ef6817-ee65-4fd4-9f66-85e51c8102c7",
   "metadata": {
    "tags": []
   },
   "outputs": [],
   "source": [
    "f = s3_fs.open(url, mode='rb')\n",
    "ds = xr.open_dataset(f)\n",
    "ds"
   ]
  },
  {
   "cell_type": "markdown",
   "id": "cb218932-4896-4902-8259-054dd10e4ad9",
   "metadata": {},
   "source": [
    "As before, we use the xarray built in plotting function to create a simple plot along the x and y dimensions of the dataset. We can see that the data are subsetted to our polygon:"
   ]
  },
  {
   "cell_type": "code",
   "execution_count": null,
   "id": "bb575963-f7f6-47e8-b7a3-a540c50aa03c",
   "metadata": {
    "tags": []
   },
   "outputs": [],
   "source": [
    "ds.analysed_sst.plot();"
   ]
  },
  {
   "cell_type": "markdown",
   "id": "baf836a2-fd00-4e62-866a-718579bfd3b3",
   "metadata": {},
   "source": [
    "***"
   ]
  },
  {
   "cell_type": "markdown",
   "id": "301f0870-fe10-4df1-8107-bd8591d86d57",
   "metadata": {
    "tags": []
   },
   "source": [
    "## Additional Resources\n",
    "\n",
    "### Tutorials\n",
    "\n",
    "This clinic was based off of several notebook tutorials including those presented during [past workshop events](https://nasa-openscapes.github.io/earthdata-cloud-cookbook/tutorials/), along with other materials co-created by the NASA Openscapes mentors:\n",
    "* [2021 Earthdata Cloud Hackathon](https://nasa-openscapes.github.io/2021-Cloud-Hackathon/)\n",
    "* [2021 AGU Workshop](https://nasa-openscapes.github.io/2021-Cloud-Workshop-AGU/)\n",
    "* [Accessing and working with ICESat-2 data in the cloud](https://github.com/nsidc/NSIDC-Data-Tutorials/tree/main/notebooks/ICESat-2_Cloud_Access)\n",
    "* [Analyzing Sea Level Rise Using Earth Data in the Cloud](https://github.com/betolink/earthaccess-gallery/blob/main/notebooks/Sea_Level_Rise/SSL.ipynb)\n",
    "\n",
    "### Cloud services\n",
    "\n",
    "The examples used in the clinic provide an abbreviated and simplified workflow to explore access and subsetting options available through the Earthdata Cloud. There are several other options that can be used to interact with data in the Earthdata Cloud including: \n",
    "\n",
    "* [OPeNDAP](https://opendap.earthdata.nasa.gov/) \n",
    "    * Hyrax provides direct access to subsetting of NASA data using Python or your favorite analysis tool\n",
    "    * Tutorial highlighting OPeNDAP usage: https://nasa-openscapes.github.io/earthdata-cloud-cookbook/how-tos/working-locally/Earthdata_Cloud__Data_Access_OPeNDAP_Example.html\n",
    "* [Zarr-EOSDIS-Store](https://github.com/nasa/zarr-eosdis-store)\n",
    "    * The zarr-eosdis-store library allows NASA EOSDIS Collections to be accessed efficiently by the Zarr Python library, provided they have a sidecar DMR++ metadata file generated. \n",
    "    * Tutorial highlighting this library's usage: https://nasa-openscapes.github.io/2021-Cloud-Hackathon/tutorials/09_Zarr_Access.html \n",
    "\n",
    "### Support\n",
    "\n",
    "* [Earthdata Forum](https://forum.earthdata.nasa.gov/)\n",
    "    * User Services and community support for all things NASA Earthdata, including Earthdata Cloud\n",
    "* [Earthdata Webinar series](https://www.earthdata.nasa.gov/learn/webinars-and-tutorials)\n",
    "    * Webinars from DAACs and other groups across EOSDIS including guidance on working with Earthdata Cloud\n",
    "    * See the [Earthdata YouTube channel](https://www.youtube.com/@NASAEarthdata/featured) for more videos "
   ]
  },
  {
   "cell_type": "code",
   "execution_count": null,
   "id": "abe97e1a-b779-42d6-8420-c1cc029b5334",
   "metadata": {},
   "outputs": [],
   "source": []
  }
 ],
 "metadata": {
  "kernelspec": {
   "display_name": "Python 3 (ipykernel)",
   "language": "python",
   "name": "python3"
  },
  "language_info": {
   "codemirror_mode": {
    "name": "ipython",
    "version": 3
   },
   "file_extension": ".py",
   "mimetype": "text/x-python",
   "name": "python",
   "nbconvert_exporter": "python",
   "pygments_lexer": "ipython3",
   "version": "3.10.14"
  }
 },
 "nbformat": 4,
 "nbformat_minor": 5
}
