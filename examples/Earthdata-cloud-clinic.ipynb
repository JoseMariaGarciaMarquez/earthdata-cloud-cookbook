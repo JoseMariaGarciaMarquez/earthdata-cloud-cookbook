{
 "cells": [
  {
   "cell_type": "raw",
   "id": "d00560f9-1def-4210-b97c-34de75e49f0a",
   "metadata": {},
   "source": [
    "---\n",
    "title: \"NASA Earthdata Cloud Clinic\"\n",
    "---"
   ]
  },
  {
   "cell_type": "markdown",
   "id": "bf218d52-4c89-48a1-bbb0-567e2378e0db",
   "metadata": {},
   "source": [
    "# Summary\n",
    "\n",
    "Welcome to the NASA Earthdata Cloud Clinic. This notebook will walk through two different access and transformation options available in the Earthdata Cloud: \n",
    "\n",
    "1. Direct s3 access using the [earthaccess](https://github.com/nsidc/earthaccess) python library\n",
    "    * Working with [MEaSUREs Sea Surface Height Anomalies](https://podaac.jpl.nasa.gov/dataset/SEA_SURFACE_HEIGHT_ALT_GRIDS_L4_2SATS_5DAY_6THDEG_V_JPL2205)\n",
    "    * Discover data using [Earthdata Search](https://search.earthdata.nasa.gov/search/granules?p=C2270392799-POCLOUD&pg[0][v]=f&pg[0][gsk]=-start_date&q=measures%20ssh%20anomalies&tl=1685392107!3!!)\n",
    "2. Data subsetting using the [Harmony-py](https://github.com/nasa/harmony-py) python library\n",
    "    * Requesting a subset of data from the [GHRSST Level 4 MUR Global Foundation Sea Surface Temperature Analysis (v4.1)](https://podaac.jpl.nasa.gov/dataset/MUR-JPL-L4-GLOB-v4.1) dataset using a vector-based geospatial file.\n",
    "    * This dataset can also be viewed in [Earthdata Search](https://search.earthdata.nasa.gov/search?q=GHRSST%20Level%204%20MUR%20v4.1&ff=Available%20in%20Earthdata%20Cloud!Customizable). \n",
    "    \n",
    "In both scenarios, we will be accessing data directly from Amazon Web Services (AWS), specifically in the us-west-2 region, which is where all cloud-hosted NASA Earthdata reside. This shared compute environment (JupyterHub) is also running in the same location. We will then load the data into Python as an `xarray` `dataset`.\n",
    "\n",
    "See the bottom of the notebook for additional resources, including several tutorials that that served as a foundation for this clinic. \n",
    "\n",
    "## Learning Objectives\n",
    "\n",
    "1. Utilize the `earthaccess` python library to search for data using spatial and temporal filters and explore search results\n",
    "2. Perform in-region direct access of data from an Amazon Simple Storage Service (S3) bucket\n",
    "3. Extract variables and spatial slices from an `xarray` dataset \n",
    "4. Plot data using `xarray` \n",
    "5. Conceptualize data subsetting services provided by NASA Earthdata, including Harmony\n",
    "6. Plot a polygon geojson file with a basemap using `geoviews` \n",
    "7. Utilize the `harmony-py` library to request data over the Gulf of Mexico"
   ]
  },
  {
   "cell_type": "markdown",
   "id": "b962cdc1-5bfc-42ad-b522-e870822f9540",
   "metadata": {},
   "source": [
    "---"
   ]
  },
  {
   "cell_type": "markdown",
   "id": "9488de1c-9177-405a-b957-92045aad16ec",
   "metadata": {
    "tags": []
   },
   "source": [
    "# 1. Prerequisites\n",
    "\n",
    "## AWS instance running in us-west-2\n",
    "\n",
    "Data in NASA's Earthdata Cloud reside in Amazon Web Services (AWS) Simple Storage Service (S3) buckets. Access is provided via temporary credentials; this access is limited to requests made within the US West (Oregon) (code: us-west-2) AWS region. While this compute location is required for direct S3 access, all data in Earthdata Cloud are still freely available via download.  \n",
    "\n",
    "## Earthdata Login\n",
    "\n",
    "An Earthdata Login account is required to access data from the NASA Earthdata system. Please visit <https://urs.earthdata.nasa.gov> to register and manage your Earthdata Login account. This account is free to create and only takes a moment to set up.\n"
   ]
  },
  {
   "cell_type": "markdown",
   "id": "34e76663-3cee-44c0-b158-03d482f8a534",
   "metadata": {},
   "source": [
    "---"
   ]
  },
  {
   "cell_type": "markdown",
   "id": "6fb418f5-09e1-4841-a608-66e706da42bb",
   "metadata": {},
   "source": [
    "## Import Required Packages"
   ]
  },
  {
   "cell_type": "code",
   "execution_count": null,
   "id": "1a6fad23-fa66-4e3d-818b-96f797025b00",
   "metadata": {
    "tags": []
   },
   "outputs": [],
   "source": [
    "# Direct access\n",
    "import earthaccess \n",
    "from pprint import pprint\n",
    "import xarray as xr\n",
    "\n",
    "# Harmony\n",
    "import geopandas as gpd\n",
    "import geoviews as gv\n",
    "gv.extension('bokeh', 'matplotlib')\n",
    "from harmony import BBox, Client, Collection, Request, LinkType\n",
    "import datetime as dt\n",
    "import s3fs\n",
    "import warnings\n",
    "warnings.filterwarnings('ignore')\n",
    "%matplotlib inline"
   ]
  },
  {
   "cell_type": "markdown",
   "id": "c4d8a614-de01-4905-949c-17588d9a623f",
   "metadata": {},
   "source": [
    "## 1. Authentication for NASA Earthdata \n",
    "\n",
    "The first step is to get the correct authentication that will allow us to get cloud-hosted data from NASA. This is all done through Earthdata Login. The `login` method also gets the correct AWS credentials."
   ]
  },
  {
   "cell_type": "code",
   "execution_count": null,
   "id": "938cefcd-63e5-4118-8500-45e74d6dfc89",
   "metadata": {
    "tags": []
   },
   "outputs": [],
   "source": [
    "auth = earthaccess.login(strategy=\"interactive\", persist=True)"
   ]
  },
  {
   "cell_type": "markdown",
   "id": "b35fcbf7-37cc-477e-be92-3d767e06dbe4",
   "metadata": {},
   "source": [
    "___\n",
    "## 2. Accessing a NetCDF-4 file using S3 Direct Access\n",
    "\n",
    "![](images/earthaccess-intro.png){fig-alt=\"Text says earthaccess python library is an open-source library to simplify Earthdata Cloud search and access\" width=25%}"
   ]
  },
  {
   "cell_type": "markdown",
   "id": "87ab966f-d1c8-4293-9d26-82e8ecb53b8c",
   "metadata": {},
   "source": [
    "### Search for data\n",
    "\n",
    "`earthaccess` leverages the [Common Metadata Repository (CMR) API](https://cmr.earthdata.nasa.gov/search/site/docs/search/api.html) to search for collections and granules. Earthdata Search also uses the CMR API. Let's head back to our [Earthdata Search](https://search.earthdata.nasa.gov/search/granules?p=C2270392799-POCLOUD&pg[0][v]=f&pg[0][gsk]=-start_date&q=measures%20ssh%20anomalies&tl=1685392107!3!!) results to gather more information about our dataset of interest. The dataset \"short name\" can be found by clicking on the Info button on our collection search result. "
   ]
  },
  {
   "cell_type": "code",
   "execution_count": null,
   "id": "30d096dc-c8ee-44d3-a130-b1dc5d9ae3bb",
   "metadata": {
    "tags": []
   },
   "outputs": [],
   "source": [
    "ssh_short_name = \"SEA_SURFACE_HEIGHT_ALT_GRIDS_L4_2SATS_5DAY_6THDEG_V_JPL2205\"\n",
    "\n",
    "results = earthaccess.search_data(\n",
    "    short_name=ssh_short_name,\n",
    "    cloud_hosted=True,\n",
    "    temporal=(\"2021-07-01\", \"2021-09-30\"),\n",
    ")"
   ]
  },
  {
   "cell_type": "markdown",
   "id": "c1db512c-9f43-4da7-ae79-562f0ddbd1eb",
   "metadata": {},
   "source": [
    "According to PO.DAAC's dataset [landing page](https://podaac.jpl.nasa.gov/dataset/SEA_SURFACE_HEIGHT_ALT_GRIDS_L4_2SATS_5DAY_6THDEG_V_JPL2205), gridded Sea Surface Height Anomalies (SSHA) above a mean sea surface are provided. The data are produced on a 1/6th degree grid every 5 days.\n",
    "\n",
    "We can discover more information about the matching files:"
   ]
  },
  {
   "cell_type": "code",
   "execution_count": null,
   "id": "3ae10e87-e1da-4a73-92e8-6ce7de141243",
   "metadata": {
    "tags": []
   },
   "outputs": [],
   "source": [
    "pprint(results[0])"
   ]
  },
  {
   "cell_type": "markdown",
   "id": "827f9971-a344-4a18-b3fc-8ef250be99e4",
   "metadata": {},
   "source": [
    "### Direct In-region Access\n",
    "\n",
    "Our code will work the same way if we are running it \"in-region\", within our shared cloud environment, or locally from our laptop.\n",
    "\n",
    "Since we are working in the AWS `us-west-2` region, we can stream data directly to xarray. We are using the `open_mfdataset()` (multi-file) method, which is required when using `earthaccess`."
   ]
  },
  {
   "cell_type": "code",
   "execution_count": null,
   "id": "e8e178e1-cea1-497a-942d-05091a2e82b1",
   "metadata": {
    "tags": []
   },
   "outputs": [],
   "source": [
    "ds = xr.open_mfdataset(earthaccess.open(results))\n",
    "ds"
   ]
  },
  {
   "cell_type": "markdown",
   "id": "324b73b1-ea96-4a36-883d-7b644181f5ea",
   "metadata": {},
   "source": [
    "We can create a subsetted xarray dataset by extracting the SLA variable and slicing the dataset by a smaller area of interest near the state of Baja, Mexico. "
   ]
  },
  {
   "cell_type": "code",
   "execution_count": null,
   "id": "a657bbde-c9a9-42f1-ae76-c8dd7724b354",
   "metadata": {
    "tags": []
   },
   "outputs": [],
   "source": [
    "ds_subset = ds['SLA'].sel(Latitude=slice(15.8, 35.9), Longitude=slice(234.5,260.5)) \n",
    "ds_subset"
   ]
  },
  {
   "cell_type": "markdown",
   "id": "d2118d08-e9e5-4bd1-9363-01ab45129a51",
   "metadata": {},
   "source": [
    "Use the built-in plotting functino of xarray to create a plot of SLA standard deviation over time: "
   ]
  },
  {
   "cell_type": "code",
   "execution_count": null,
   "id": "70889735-5e52-4f79-a210-c1dbc95e4a7c",
   "metadata": {
    "tags": []
   },
   "outputs": [],
   "source": [
    "ds_subset.std('Time').plot(figsize=(10,6), x='Longitude', y='Latitude');"
   ]
  },
  {
   "cell_type": "markdown",
   "id": "6bbf7721-3a70-4dab-ac66-16fcf3fc8cf6",
   "metadata": {},
   "source": [
    "---"
   ]
  },
  {
   "cell_type": "markdown",
   "id": "ad8b8d37-cc33-48ec-9145-a702dde0ee79",
   "metadata": {
    "tags": []
   },
   "source": [
    "## 3. Accessing a subsetted NetCDF-4 file using Transformation Services in the Cloud\n",
    "\n",
    "In addition to directly accessing the files archived and distributed by each of the NASA DAACs, many datasets also support services that allow us to customize the data via subsetting, reformatting, reprojection/regridding, and file aggregation. Using [Earthdata Search](https://search.earthdata.nasa.gov/search?q=GHRSST%20Level%204%20MUR%20v4.1&ff=Available%20in%20Earthdata%20Cloud!Customizable), we can find datasets that support these services using the \"Customizable\" filter. \n",
    "\n",
    "![](images/subsetting_diagram.png){fig-alt=\"Three maps of the United States are present, with a red bounding box over the state of Colorado. Filtering and subsetting are demonstrated by overlaying SMAP L2 data, with data overlapping and cropping the rectangle, respectively.\"  width=25%}\n",
    "\n",
    "We will find, request, and open customized data using [Harmony](https://harmony.earthdata.nasa.gov/), below."
   ]
  },
  {
   "cell_type": "markdown",
   "id": "9bca030c-38a0-4118-a317-7a74f62cae60",
   "metadata": {},
   "source": [
    "### Define area of interest\n",
    "\n",
    "First, use `geopandas` to read in a geojson file containing a polygon feature over the Gulf of Mexico. The geojson file is found in the ~/data directory. "
   ]
  },
  {
   "cell_type": "code",
   "execution_count": null,
   "id": "be657f21-bf7a-4fef-b2d7-4141a3cd5de3",
   "metadata": {
    "tags": []
   },
   "outputs": [],
   "source": [
    "geojson_path = './data/gulf.json'\n",
    "gdf = gpd.read_file(geojson_path) #Return a GeoDataFrame object"
   ]
  },
  {
   "cell_type": "markdown",
   "id": "097684e8-40df-4c22-ba28-91c3499155b9",
   "metadata": {},
   "source": [
    "We can plot the polygon using the `geoviews` package that we imported as gv with ‘bokeh’ and ‘matplotlib’ extensions. The following has reasonable width, height, color, and line widths to view our polygon when it is overlayed on a base tile map."
   ]
  },
  {
   "cell_type": "code",
   "execution_count": null,
   "id": "aa980572-a8f2-4324-93bf-c3e4f7102a96",
   "metadata": {
    "tags": []
   },
   "outputs": [],
   "source": [
    "base = gv.tile_sources.EsriImagery.opts(width=650, height=500)\n",
    "ocean_map = gv.Polygons(gdf).opts(line_color='yellow', line_width=5, color=None)\n",
    "base * ocean_map"
   ]
  },
  {
   "cell_type": "markdown",
   "id": "e2ce6fc6-1f2c-45a0-a824-c67f29a83e35",
   "metadata": {
    "tags": []
   },
   "source": [
    "### Use Harmony-Py to request a spatial subset of data"
   ]
  },
  {
   "cell_type": "markdown",
   "id": "86d05f77-8c21-4c7e-b865-b191398f93ae",
   "metadata": {},
   "source": [
    "First, we need to create a Harmony Client, which is what we will interact with to submit and inspect a data request to Harmony, as well as to retrieve results.\n",
    "\n",
    "When creating the Client, we need to provide Earthdata Login credentials. This basic line below assumes that we have a `.netrc` available. See the Earthdata Cloud Cookbook [appendix](\"https://nasa-openscapes.github.io/earthdata-cloud-cookbook/appendix/authentication.html\") for more information on [Earthdata Login](\"https://urs.earthdata.nasa.gov/\") and netrc setup. "
   ]
  },
  {
   "cell_type": "code",
   "execution_count": null,
   "id": "0387b657-10aa-4503-8454-3a7438734dbd",
   "metadata": {},
   "outputs": [],
   "source": [
    "harmony_client = Client()"
   ]
  },
  {
   "cell_type": "markdown",
   "id": "c21f5aef-8427-4ae7-8238-8c8adee8347d",
   "metadata": {},
   "source": [
    "### Create Harmony Request\n",
    "\n",
    "See the [harmony-py documentation](https://harmony-py.readthedocs.io/en/latest/) for details on how to construct your request."
   ]
  },
  {
   "cell_type": "code",
   "execution_count": null,
   "id": "2d2f1aa6-3b71-4b6f-a321-3c9d7eef8234",
   "metadata": {},
   "outputs": [],
   "source": [
    "sst_short_name=\"MUR-JPL-L4-GLOB-v4.1\"\n",
    "\n",
    "request = Request(\n",
    "    collection=Collection(id=sst_short_name),\n",
    "    shape=geojson_path,\n",
    "    temporal={\n",
    "    'start': dt.datetime(2021, 8, 1, 1),\n",
    "    'stop': dt.datetime(2021, 8, 1, 2)   \n",
    "    },\n",
    ")"
   ]
  },
  {
   "cell_type": "markdown",
   "id": "6fdc83c1-a2ea-41bb-b319-48fde922bf8d",
   "metadata": {},
   "source": [
    "### Submit request\n",
    "\n",
    "Now that the request is created, we can now submit it to Harmony using the Harmony Client object. A job id is returned, which is a unique identifier that represents the submitted request."
   ]
  },
  {
   "cell_type": "code",
   "execution_count": null,
   "id": "fe541923-f17e-4027-831b-e35004b1c36f",
   "metadata": {},
   "outputs": [],
   "source": [
    "job_id = harmony_client.submit(request)\n",
    "job_id"
   ]
  },
  {
   "cell_type": "markdown",
   "id": "c0e74e62-aacd-4dff-ac45-5e9f322f0677",
   "metadata": {},
   "source": [
    "### Check request status"
   ]
  },
  {
   "cell_type": "markdown",
   "id": "71a49cb5-6e27-42c6-83a0-0d88f50e9fb8",
   "metadata": {},
   "source": [
    "Depending on the size of the request, it may be helpful to wait until the request has completed processing before the remainder of the code is executed. The wait_for_processing() method will block subsequent lines of code while optionally showing a progress bar."
   ]
  },
  {
   "cell_type": "code",
   "execution_count": null,
   "id": "a414eaaa-0b84-4023-ab72-d49c068c1470",
   "metadata": {},
   "outputs": [],
   "source": [
    "harmony_client.wait_for_processing(job_id, show_progress=True)"
   ]
  },
  {
   "cell_type": "markdown",
   "id": "2d17ff08-1a87-439e-8399-db24b1844c7d",
   "metadata": {},
   "source": [
    "### View Harmony job response and output URLs\n",
    "Once the data request has finished processing, we can view details on the job that was submitted to Harmony, including the API call to Harmony, and informational messages on the request if available.\n",
    "\n",
    "result_json() calls wait_for_processing() and returns the complete job in JSON format once processing is complete. "
   ]
  },
  {
   "cell_type": "code",
   "execution_count": null,
   "id": "daee7ccf-fc54-4f07-9223-f724d968c3e9",
   "metadata": {
    "tags": []
   },
   "outputs": [],
   "source": [
    "data = harmony_client.result_json(job_id)\n",
    "pprint(data)"
   ]
  },
  {
   "cell_type": "markdown",
   "id": "ee7948bd-433e-428c-a4c0-a9651e8775dc",
   "metadata": {
    "tags": []
   },
   "source": [
    "### Direct In-region Access\n",
    "\n",
    "Just like above, the subsetted outputs produced by Harmony can be accessed directly from the cloud. \n",
    "\n",
    "#### Retrieve list of output URLs.\n",
    "\n",
    "The result_urls() method calls wait_for_processing() and returns a list of the processed data URLs once processing is complete. You may optionally show the progress bar as shown below."
   ]
  },
  {
   "cell_type": "code",
   "execution_count": null,
   "id": "924317f8-74de-4937-bf91-1e4e408ca9f2",
   "metadata": {},
   "outputs": [],
   "source": [
    "results = harmony_client.result_urls(job_id, link_type=LinkType.s3)\n",
    "urls = list(results)\n",
    "url = urls[0]\n",
    "print(url)"
   ]
  },
  {
   "cell_type": "markdown",
   "id": "03b62050-88ad-4c50-9d38-6fabf36dc612",
   "metadata": {},
   "source": [
    "Using `aws_credentials` you can retrieve the credentials needed to access the Harmony s3 staging bucket and its contents."
   ]
  },
  {
   "cell_type": "code",
   "execution_count": null,
   "id": "86419068-0d82-4cd1-84d1-eb59b699e07b",
   "metadata": {
    "tags": []
   },
   "outputs": [],
   "source": [
    "creds = harmony_client.aws_credentials()"
   ]
  },
  {
   "cell_type": "markdown",
   "id": "111a10c1-f72c-46f5-9b22-3b3eabb7b179",
   "metadata": {
    "tags": []
   },
   "source": [
    "#### Open staged files with *s3fs* and *xarray*\n",
    "\n",
    "We use the AWS `s3fs` package to create a file system that can then be read by xarray:"
   ]
  },
  {
   "cell_type": "code",
   "execution_count": null,
   "id": "db3eb41d-d059-4ffb-b2b3-8675f238e874",
   "metadata": {},
   "outputs": [],
   "source": [
    "s3_fs = s3fs.S3FileSystem(\n",
    "    key=creds['aws_access_key_id'],\n",
    "    secret=creds['aws_secret_access_key'],\n",
    "    token=creds['aws_session_token'],\n",
    "    client_kwargs={'region_name':'us-west-2'},\n",
    ")"
   ]
  },
  {
   "cell_type": "markdown",
   "id": "60b411be-49be-47a5-bad2-e3cceec250fd",
   "metadata": {},
   "source": [
    "Now that we have our s3 file system set, including our declared credentials, we'll use that to open the url, and read in the file through xarray. This extra step is needed because xarray cannot open the S3 location directly. Instead, the S3 file object is passed to xarray, in order to then open the dataset. "
   ]
  },
  {
   "cell_type": "code",
   "execution_count": null,
   "id": "93ef6817-ee65-4fd4-9f66-85e51c8102c7",
   "metadata": {
    "tags": []
   },
   "outputs": [],
   "source": [
    "f = s3_fs.open(url, mode='rb')\n",
    "ds = xr.open_dataset(f)\n",
    "ds"
   ]
  },
  {
   "cell_type": "markdown",
   "id": "cb218932-4896-4902-8259-054dd10e4ad9",
   "metadata": {},
   "source": [
    "As before, we use the xarray built in plotting function to create a simple plot along the x and y dimensions of the dataset. We can see that the data are subsetted to our polygon:"
   ]
  },
  {
   "cell_type": "code",
   "execution_count": null,
   "id": "bb575963-f7f6-47e8-b7a3-a540c50aa03c",
   "metadata": {
    "tags": []
   },
   "outputs": [],
   "source": [
    "ds.analysed_sst.plot();"
   ]
  },
  {
   "cell_type": "markdown",
   "id": "301f0870-fe10-4df1-8107-bd8591d86d57",
   "metadata": {
    "tags": []
   },
   "source": [
    "## Additional Resources\n",
    "\n",
    "### Tutorials\n",
    "\n",
    "This clinic was based off of several notebook tutorials including those presented during [past workshop events](https://nasa-openscapes.github.io/earthdata-cloud-cookbook/tutorials/), along with other materials co-created by the NASA Openscapes mentors:\n",
    "* [2021 Earthdata Cloud Hackathon](https://nasa-openscapes.github.io/2021-Cloud-Hackathon/)\n",
    "* [2021 AGU Workshop](https://nasa-openscapes.github.io/2021-Cloud-Workshop-AGU/)\n",
    "* [Accessing and working with ICESat-2 data in the cloud](https://github.com/nsidc/NSIDC-Data-Tutorials/tree/main/notebooks/ICESat-2_Cloud_Access)\n",
    "* [Analyzing Sea Level Rise Using Earth Data in the Cloud](https://github.com/betolink/earthaccess-gallery/blob/main/notebooks/Sea_Level_Rise/SSL.ipynb)\n",
    "\n",
    "### Cloud services\n",
    "\n",
    "The examples used in the clinic provide an abbreviated and simplified workflow to explore access and subsetting options available through the Earthdata Cloud. There are several other options that can be used to interact with data in the Earthdata Cloud including: \n",
    "\n",
    "* [OPeNDAP](https://opendap.earthdata.nasa.gov/) \n",
    "    * Hyrax provides direct access to subsetting of NASA data using Python or your favorite analysis tool\n",
    "    * Tutorial highlighting OPeNDAP usage: https://nasa-openscapes.github.io/earthdata-cloud-cookbook/how-tos/working-locally/Earthdata_Cloud__Data_Access_OPeNDAP_Example.html\n",
    "* [Zarr-EOSDIS-Store](https://github.com/nasa/zarr-eosdis-store)\n",
    "    * The zarr-eosdis-store library allows NASA EOSDIS Collections to be accessed efficiently by the Zarr Python library, provided they have a sidecar DMR++ metadata file generated. \n",
    "    * Tutorial highlighting this library's usage: https://nasa-openscapes.github.io/2021-Cloud-Hackathon/tutorials/09_Zarr_Access.html \n",
    "\n",
    "### Support\n",
    "\n",
    "* [Earthdata Forum](https://forum.earthdata.nasa.gov/)\n",
    "    * User Services and community support for all things NASA Earthdata, including Earthdata Cloud\n",
    "* [Earthdata Webinar series](https://www.earthdata.nasa.gov/learn/webinars-and-tutorials)\n",
    "    * Webinars from DAACs and other groups across EOSDIS including guidance on working with Earthdata Cloud\n",
    "    * See the [Earthdata YouTube channel](https://www.youtube.com/@NASAEarthdata/featured) for more videos "
   ]
  },
  {
   "cell_type": "code",
   "execution_count": null,
   "id": "abe97e1a-b779-42d6-8420-c1cc029b5334",
   "metadata": {},
   "outputs": [],
   "source": []
  }
 ],
 "metadata": {
  "kernelspec": {
   "display_name": "Python 3 (ipykernel)",
   "language": "python",
   "name": "python3"
  },
  "language_info": {
   "codemirror_mode": {
    "name": "ipython",
    "version": 3
   },
   "file_extension": ".py",
   "mimetype": "text/x-python",
   "name": "python",
   "nbconvert_exporter": "python",
   "pygments_lexer": "ipython3",
   "version": "3.9.16"
  }
 },
 "nbformat": 4,
 "nbformat_minor": 5
}
