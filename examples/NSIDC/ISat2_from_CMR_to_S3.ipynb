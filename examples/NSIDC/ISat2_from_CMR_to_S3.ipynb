{
 "cells": [
  {
   "cell_type": "markdown",
   "id": "failing-wallace",
   "metadata": {},
   "source": [
    "# Searching and Downloading NSIDC Cloud Collections\n",
    "\n",
    "\n",
    "Programmatic access and processing of NSIDC data can happen in 2 ways, using the old `Search -> Download -> Analize` pattern or \n",
    "using a more modern `Search -> Process_in_the_cloud -> Analyze` approach.\n",
    "\n",
    "There is nothing wrong with downloading data to our local machine but that can get complicated or even impossible if a dataset is too large.\n",
    "For this reason NSIDC along with other NASA data centers started to collocate or migrate their dataset holdings in the cloud. \n",
    "\n",
    "In order to use NSIDC cloud collections we need to \n",
    "1. Authenticate ourselves with the NASA Earthdata Login API (EDL).\n",
    "2. Search granules/collections using a CMR client that supports authentication\n",
    "3. Parse CMR responses looking for AWS S3 URLs\n",
    "4. Access the data granules using temporary AWS credentials given by the NSIDC cloud credentials endpoint\n",
    "\n",
    "## Requirements\n",
    "\n",
    "* [NASA Eartdata Login (EDL) credentials](https://urs.earthdata.nasa.gov/)\n",
    "* python libraries:\n",
    "  - aws-cli\n",
    "  - xarray\n",
    "  - fs-s3fs\n",
    "  - zarr\n",
    "  - [cmr](https://github.com/nasa/eo-metadata-tools/tree/master/CMR/python)\n",
    "      - [python-cmr](https://github.com/nsidc/python-cmr) (optional fallback) NSIDC fork"
   ]
  },
  {
   "cell_type": "markdown",
   "id": "visible-indian",
   "metadata": {},
   "source": [
    "## Querying CMR for NSIDC data\n",
    "\n",
    "Most collections at NSIDC have not being migrated to the cloud and can be found using CMR with no authentication at all. Here is a simple example for \n",
    "altimeter data (ATL03) coming from the ICESat-2 mission. First we'll search the regular collection and then we'll do the same using the cloud collection.\n",
    "\n",
    "### NSIDC hosted collections\n"
   ]
  },
  {
   "cell_type": "code",
   "execution_count": 1,
   "id": "little-daisy",
   "metadata": {},
   "outputs": [
    {
     "name": "stdout",
     "output_type": "stream",
     "text": [
      "concept-id: C1997321091-NSIDC_ECS\n",
      "Title: ATLAS/ICESat-2 L2A Global Geolocated Photon Data V004\n",
      "Abstract: This data set (ATL03) contains height above the WGS 84 ellipsoid (ITRF2014 reference frame), latitude, longitude, and time for all photons downlinked by the Advanced Topographic Laser Altimeter System (ATLAS) instrument on board the Ice, Cloud and land Elevation Satellite-2 (ICESat-2) observatory. The ATL03 product was designed to be a single source for all photon data and ancillary information needed by higher-level ATLAS/ICESat-2 products. As such, it also includes spacecraft and instrument parameters and ancillary data not explicitly required for ATL03.\n",
      "\n",
      "concept-id: C1705401930-NSIDC_ECS\n",
      "Title: ATLAS/ICESat-2 L2A Global Geolocated Photon Data V003\n",
      "Abstract: This data set (ATL03) contains height above the WGS 84 ellipsoid (ITRF2014 reference frame), latitude, longitude, and time for all photons downlinked by the Advanced Topographic Laser Altimeter System (ATLAS) instrument on board the Ice, Cloud and land Elevation Satellite-2 (ICESat-2) observatory. The ATL03 product was designed to be a single source for all photon data and ancillary information needed by higher-level ATLAS/ICESat-2 products. As such, it also includes spacecraft and instrument parameters and ancillary data not explicitly required for ATL03.\n",
      "\n",
      "concept-id: C2003771331-NSIDC_ECS\n",
      "Title: ATLAS/ICESat-2 L3A Land Ice Height V004\n",
      "Abstract: This data set (ATL06) provides geolocated, land-ice surface heights (above the WGS 84 ellipsoid, ITRF2014 reference frame), plus ancillary parameters that can be used to interpret and assess the quality of the height estimates. The data were acquired by the Advanced Topographic Laser Altimeter System (ATLAS) instrument on board the Ice, Cloud and land Elevation Satellite-2 (ICESat-2) observatory.\n",
      "\n"
     ]
    }
   ],
   "source": [
    "from cmr.search import collection as cmr_collection\n",
    "from cmr.search import granule \n",
    "from cmr.auth import token\n",
    "\n",
    "# NON_AWS collections are hosted at the NSIDC DAAC data center\n",
    "# AWS_CLOUD collections are hosted at AWS S3 us-west-2\n",
    "NSIDC_PROVIDERS = {\n",
    "    'NSIDC_HOSTED': 'NSIDC_ECS', \n",
    "    'AWS_HOSTED':'NSIDC_CPRD'\n",
    "}\n",
    "\n",
    "# First let's search for some collections hosted at NSIDC using a keyword\n",
    "collections = cmr_collection.search({'keyword':'ice',\n",
    "                                     'provider': NSIDC_PROVIDERS['NSIDC_HOSTED']})\n",
    "\n",
    "# Let's print some information about the first 3 collection that match our provider\n",
    "for collection in collections[0:3]:\n",
    "    print(f\"concept-id: {collection['meta']['concept-id']}\\n\" +\n",
    "          f\"Title: {collection['umm']['EntryTitle']}\\n\" +\n",
    "          f\"Abstract: {collection['umm']['Abstract']}\\n\")"
   ]
  },
  {
   "cell_type": "code",
   "execution_count": 2,
   "id": "assisted-constraint",
   "metadata": {},
   "outputs": [
    {
     "name": "stdout",
     "output_type": "stream",
     "text": [
      "concept-id: C1997321091-NSIDC_ECS\n",
      "Title: ATLAS/ICESat-2 L2A Global Geolocated Photon Data V004\n",
      "Abstract: This data set (ATL03) contains height above the WGS 84 ellipsoid (ITRF2014 reference frame), latitude, longitude, and time for all photons downlinked by the Advanced Topographic Laser Altimeter System (ATLAS) instrument on board the Ice, Cloud and land Elevation Satellite-2 (ICESat-2) observatory. The ATL03 product was designed to be a single source for all photon data and ancillary information needed by higher-level ATLAS/ICESat-2 products. As such, it also includes spacecraft and instrument parameters and ancillary data not explicitly required for ATL03.\n",
      "\n",
      "concept-id: C1705401930-NSIDC_ECS\n",
      "Title: ATLAS/ICESat-2 L2A Global Geolocated Photon Data V003\n",
      "Abstract: This data set (ATL03) contains height above the WGS 84 ellipsoid (ITRF2014 reference frame), latitude, longitude, and time for all photons downlinked by the Advanced Topographic Laser Altimeter System (ATLAS) instrument on board the Ice, Cloud and land Elevation Satellite-2 (ICESat-2) observatory. The ATL03 product was designed to be a single source for all photon data and ancillary information needed by higher-level ATLAS/ICESat-2 products. As such, it also includes spacecraft and instrument parameters and ancillary data not explicitly required for ATL03.\n",
      "\n"
     ]
    }
   ],
   "source": [
    "# Now let's do the same with short names, a more specific way of finding data.\n",
    "\n",
    "#First let's search for some collections hosted at NSIDC\n",
    "collections = cmr_collection.search({'short_name':'ATL03',\n",
    "                                     'provider': NSIDC_PROVIDERS['NSIDC_HOSTED']})\n",
    "\n",
    "# Note how we get back the same collection twice, that's because we have 2 versions available.\n",
    "for collection in collections[0:3]:\n",
    "    print(f\"concept-id: {collection['meta']['concept-id']}\\n\" +\n",
    "          f\"Title: {collection['umm']['EntryTitle']}\\n\" +\n",
    "          f\"Abstract: {collection['umm']['Abstract']}\\n\")"
   ]
  },
  {
   "cell_type": "code",
   "execution_count": 3,
   "id": "reverse-think",
   "metadata": {},
   "outputs": [
    {
     "name": "stdout",
     "output_type": "stream",
     "text": [
      "Total granules found: 201 \n",
      "\n"
     ]
    },
    {
     "data": {
      "text/html": [
       "\n",
       "        <p>\n",
       "          <b>Id</b>: ATL03_20181014001049_02350102_004_01.h5<BR>\n",
       "          <b>Collection</b>: {'EntryTitle': 'ATLAS/ICESat-2 L2A Global Geolocated Photon Data V004'}<BR>\n",
       "          <b>Spatial coverage</b>: {'HorizontalSpatialDomain': {'Orbit': {'AscendingCrossing': -127.0482205607256, 'StartLatitude': 27.0, 'StartDirection': 'A', 'EndLatitude': 59.5, 'EndDirection': 'A'}}}<BR>\n",
       "          <b>Temporal coverage</b>: {'RangeDateTime': {'BeginningDateTime': '2018-10-14T00:10:49.722Z', 'EndingDateTime': '2018-10-14T00:19:19.918Z'}}<BR>\n",
       "          <b>Size(MB):</b> 1764.5729866028 <BR>\n",
       "          <b>Data</b>: <a href=\"https://n5eil01u.ecs.nsidc.org/DP9/ATLAS/ATL03.004/2018.10.14/ATL03_20181014001049_02350102_004_01.h5\" target=\"_blank\">https://n5eil01u.ecs.nsidc.org/DP9/ATLAS/ATL03.004/2018.10.14/ATL03_20181014001049_02350102_004_01.h5</a><BR><BR>\n",
       "          <span><img src=\"https://n5eil01u.ecs.nsidc.org/DP0/BRWS/Browse.001/2021.02.05/ATL03_20181014001049_02350102_004_01_BRW.default.default1.jpg\" width=\"340px\" /><img src=\"https://n5eil01u.ecs.nsidc.org/DP0/BRWS/Browse.001/2021.02.05/ATL03_20181014001049_02350102_004_01_BRW.default.default2.jpg\" width=\"340px\" /></span>\n",
       "        </p>\n",
       "        "
      ],
      "text/plain": [
       "\n",
       "        Id: ATL03_20181014001049_02350102_004_01.h5\n",
       "        Collection: {'EntryTitle': 'ATLAS/ICESat-2 L2A Global Geolocated Photon Data V004'}\n",
       "        Spatial coverage: {'HorizontalSpatialDomain': {'Orbit': {'AscendingCrossing': -127.0482205607256, 'StartLatitude': 27.0, 'StartDirection': 'A', 'EndLatitude': 59.5, 'EndDirection': 'A'}}}\n",
       "        Temporal coverage: {'RangeDateTime': {'BeginningDateTime': '2018-10-14T00:10:49.722Z', 'EndingDateTime': '2018-10-14T00:19:19.918Z'}}\n",
       "        Size(MB): 1764.5729866028\n",
       "        Data: ['https://n5eil01u.ecs.nsidc.org/DP9/ATLAS/ATL03.004/2018.10.14/ATL03_20181014001049_02350102_004_01.h5']\n",
       "\n",
       "        "
      ]
     },
     "metadata": {},
     "output_type": "display_data"
    },
    {
     "data": {
      "text/html": [
       "\n",
       "        <p>\n",
       "          <b>Id</b>: ATL03_20181015124359_02580106_004_01.h5<BR>\n",
       "          <b>Collection</b>: {'EntryTitle': 'ATLAS/ICESat-2 L2A Global Geolocated Photon Data V004'}<BR>\n",
       "          <b>Spatial coverage</b>: {'HorizontalSpatialDomain': {'Orbit': {'AscendingCrossing': 49.70324528818096, 'StartLatitude': 59.5, 'StartDirection': 'D', 'EndLatitude': 27.0, 'EndDirection': 'D'}}}<BR>\n",
       "          <b>Temporal coverage</b>: {'RangeDateTime': {'BeginningDateTime': '2018-10-15T12:43:57.696Z', 'EndingDateTime': '2018-10-15T12:52:28.274Z'}}<BR>\n",
       "          <b>Size(MB):</b> 276.2403841019 <BR>\n",
       "          <b>Data</b>: <a href=\"https://n5eil01u.ecs.nsidc.org/DP9/ATLAS/ATL03.004/2018.10.15/ATL03_20181015124359_02580106_004_01.h5\" target=\"_blank\">https://n5eil01u.ecs.nsidc.org/DP9/ATLAS/ATL03.004/2018.10.15/ATL03_20181015124359_02580106_004_01.h5</a><BR><BR>\n",
       "          <span><img src=\"https://n5eil01u.ecs.nsidc.org/DP0/BRWS/Browse.001/2021.02.05/ATL03_20181015124359_02580106_004_01_BRW.default.default1.jpg\" width=\"340px\" /><img src=\"https://n5eil01u.ecs.nsidc.org/DP0/BRWS/Browse.001/2021.02.05/ATL03_20181015124359_02580106_004_01_BRW.default.default2.jpg\" width=\"340px\" /></span>\n",
       "        </p>\n",
       "        "
      ],
      "text/plain": [
       "\n",
       "        Id: ATL03_20181015124359_02580106_004_01.h5\n",
       "        Collection: {'EntryTitle': 'ATLAS/ICESat-2 L2A Global Geolocated Photon Data V004'}\n",
       "        Spatial coverage: {'HorizontalSpatialDomain': {'Orbit': {'AscendingCrossing': 49.70324528818096, 'StartLatitude': 59.5, 'StartDirection': 'D', 'EndLatitude': 27.0, 'EndDirection': 'D'}}}\n",
       "        Temporal coverage: {'RangeDateTime': {'BeginningDateTime': '2018-10-15T12:43:57.696Z', 'EndingDateTime': '2018-10-15T12:52:28.274Z'}}\n",
       "        Size(MB): 276.2403841019\n",
       "        Data: ['https://n5eil01u.ecs.nsidc.org/DP9/ATLAS/ATL03.004/2018.10.15/ATL03_20181015124359_02580106_004_01.h5']\n",
       "\n",
       "        "
      ]
     },
     "metadata": {},
     "output_type": "display_data"
    },
    {
     "data": {
      "text/html": [
       "\n",
       "        <p>\n",
       "          <b>Id</b>: ATL03_20181018000228_02960102_004_01.h5<BR>\n",
       "          <b>Collection</b>: {'EntryTitle': 'ATLAS/ICESat-2 L2A Global Geolocated Photon Data V004'}<BR>\n",
       "          <b>Spatial coverage</b>: {'HorizontalSpatialDomain': {'Orbit': {'AscendingCrossing': -127.82682215638665, 'StartLatitude': 27.0, 'StartDirection': 'A', 'EndLatitude': 59.5, 'EndDirection': 'A'}}}<BR>\n",
       "          <b>Temporal coverage</b>: {'RangeDateTime': {'BeginningDateTime': '2018-10-18T00:02:28.717Z', 'EndingDateTime': '2018-10-18T00:10:58.903Z'}}<BR>\n",
       "          <b>Size(MB):</b> 877.0574979782 <BR>\n",
       "          <b>Data</b>: <a href=\"https://n5eil01u.ecs.nsidc.org/DP9/ATLAS/ATL03.004/2018.10.18/ATL03_20181018000228_02960102_004_01.h5\" target=\"_blank\">https://n5eil01u.ecs.nsidc.org/DP9/ATLAS/ATL03.004/2018.10.18/ATL03_20181018000228_02960102_004_01.h5</a><BR><BR>\n",
       "          <span><img src=\"https://n5eil01u.ecs.nsidc.org/DP0/BRWS/Browse.001/2021.02.05/ATL03_20181018000228_02960102_004_01_BRW.default.default1.jpg\" width=\"340px\" /><img src=\"https://n5eil01u.ecs.nsidc.org/DP0/BRWS/Browse.001/2021.02.05/ATL03_20181018000228_02960102_004_01_BRW.default.default2.jpg\" width=\"340px\" /></span>\n",
       "        </p>\n",
       "        "
      ],
      "text/plain": [
       "\n",
       "        Id: ATL03_20181018000228_02960102_004_01.h5\n",
       "        Collection: {'EntryTitle': 'ATLAS/ICESat-2 L2A Global Geolocated Photon Data V004'}\n",
       "        Spatial coverage: {'HorizontalSpatialDomain': {'Orbit': {'AscendingCrossing': -127.82682215638665, 'StartLatitude': 27.0, 'StartDirection': 'A', 'EndLatitude': 59.5, 'EndDirection': 'A'}}}\n",
       "        Temporal coverage: {'RangeDateTime': {'BeginningDateTime': '2018-10-18T00:02:28.717Z', 'EndingDateTime': '2018-10-18T00:10:58.903Z'}}\n",
       "        Size(MB): 877.0574979782\n",
       "        Data: ['https://n5eil01u.ecs.nsidc.org/DP9/ATLAS/ATL03.004/2018.10.18/ATL03_20181018000228_02960102_004_01.h5']\n",
       "\n",
       "        "
      ]
     },
     "metadata": {},
     "output_type": "display_data"
    }
   ],
   "source": [
    "# now that we have the concept-ids we can look for data granules in that collection and pass spatiotemporal parameters.\n",
    "from cmr_serializer import QueryResult\n",
    "\n",
    "# Jeneau ice sheet\n",
    "query = {'concept-id': 'C1997321091-NSIDC_ECS',\n",
    "         'bounding_box': '-135.1977,58.3325,-133.3410,58.9839'}\n",
    "\n",
    "# Querying for ATL03 v3 using its concept-id and a bounding box\n",
    "results = granule.search(query, limit=1000)\n",
    "# This is a wrapper with convenient methods to work with CMR query results.\n",
    "granules = QueryResult(results).items()\n",
    "\n",
    "print(f\"Total granules found: {len(results)} \\n\")\n",
    "for g in granules[0:3]:\n",
    "    display(g)"
   ]
  },
  {
   "cell_type": "code",
   "execution_count": 7,
   "id": "041d4fab-e190-49e9-a9e7-36905bae01b8",
   "metadata": {},
   "outputs": [
    {
     "name": "stdout",
     "output_type": "stream",
     "text": [
      "['https://n5eil01u.ecs.nsidc.org/DP9/ATLAS/ATL03.004/2018.10.14/ATL03_20181014001049_02350102_004_01.h5']\n",
      "['https://n5eil01u.ecs.nsidc.org/DP9/ATLAS/ATL03.004/2018.10.15/ATL03_20181015124359_02580106_004_01.h5']\n",
      "['https://n5eil01u.ecs.nsidc.org/DP9/ATLAS/ATL03.004/2018.10.18/ATL03_20181018000228_02960102_004_01.h5']\n",
      "['https://n5eil01u.ecs.nsidc.org/DP9/ATLAS/ATL03.004/2018.11.05/ATL03_20181105113651_05780106_004_01.h5']\n",
      "['https://n5eil01u.ecs.nsidc.org/DP9/ATLAS/ATL03.004/2018.11.07/ATL03_20181107225525_06160102_004_01.h5']\n",
      "['https://n5eil01u.ecs.nsidc.org/DP9/ATLAS/ATL03.004/2018.11.09/ATL03_20181109112837_06390106_004_01.h5']\n",
      "['https://n5eil01u.ecs.nsidc.org/DP9/ATLAS/ATL03.004/2018.11.11/ATL03_20181111224708_06770102_004_01.h5']\n",
      "['https://n5eil01u.ecs.nsidc.org/DP9/ATLAS/ATL03.004/2018.11.15/ATL03_20181115223845_07380102_004_01.h5']\n",
      "['https://n5eil01u.ecs.nsidc.org/DP9/ATLAS/ATL03.004/2018.12.04/ATL03_20181204101243_10200106_004_01.h5']\n",
      "['https://n5eil01u.ecs.nsidc.org/DP9/ATLAS/ATL03.004/2018.12.06/ATL03_20181206213114_10580102_004_01.h5']\n"
     ]
    }
   ],
   "source": [
    "# We  can access the data links with the data_links()\n",
    "for g in granules[0:10]:\n",
    "    print(g.data_links())"
   ]
  },
  {
   "cell_type": "markdown",
   "id": "laughing-malawi",
   "metadata": {},
   "source": [
    "## Cloud Collections\n",
    "\n",
    "Since NSIDC cloud collections are not yet public we need to authenticate ourselves with CMR first.\n"
   ]
  },
  {
   "cell_type": "code",
   "execution_count": 8,
   "id": "trying-shannon",
   "metadata": {},
   "outputs": [
    {
     "name": "stdout",
     "output_type": "stream",
     "text": [
      "Enter your NASA Earthdata login password:\n"
     ]
    },
    {
     "name": "stdin",
     "output_type": "stream",
     "text": [
      " ········\n"
     ]
    }
   ],
   "source": [
    "import getpass\n",
    "\n",
    "from cmr.search import collection as cmr_collection\n",
    "from cmr.search import granule \n",
    "from cmr.auth import token\n",
    "\n",
    "from cmr_auth import CMRAuth\n",
    "\n",
    "# NON_AWS collections are hosted at the NSIDC DAAC data center\n",
    "# AWS_CLOUD collections are hosted at AWS S3 us-west-2\n",
    "NSIDC_PROVIDERS = {\n",
    "    'NSIDC_HOSTED': 'NSIDC_ECS', \n",
    "    'AWS_HOSTED':'NSIDC_CPRD'\n",
    "}\n",
    "\n",
    "# Use your own EDL username\n",
    "USER= 'betolink'\n",
    "\n",
    "print('Enter your NASA Earthdata login password:')\n",
    "password = getpass.getpass()\n",
    "CMR_auth = CMRAuth(USER, password)\n",
    "# Token to search private collections on CMR\n",
    "cmr_token = CMR_auth.get_token()"
   ]
  },
  {
   "cell_type": "code",
   "execution_count": 9,
   "id": "standing-catering",
   "metadata": {},
   "outputs": [
    {
     "name": "stdout",
     "output_type": "stream",
     "text": [
      "concept-id: C2027878642-NSIDC_CPRD\n",
      "Title: ATLAS/ICESat-2 L2A Global Geolocated Photon Data V004\n",
      "Abstract: This data set (ATL03) contains height above the WGS 84 ellipsoid (ITRF2014 reference frame), latitude, longitude, and time for all photons downlinked by the Advanced Topographic Laser Altimeter System (ATLAS) instrument on board the Ice, Cloud and land Elevation Satellite-2 (ICESat-2) observatory. The ATL03 product was designed to be a single source for all photon data and ancillary information needed by higher-level ATLAS/ICESat-2 products. As such, it also includes spacecraft and instrument parameters and ancillary data not explicitly required for ATL03.\n",
      "\n"
     ]
    }
   ],
   "source": [
    "# Now let's start our aunthenticated queries on CMR\n",
    "query = {'short_name':'ATL03',\n",
    "         'token': cmr_token,\n",
    "         'provider': NSIDC_PROVIDERS['AWS_HOSTED']}\n",
    "\n",
    "collections = cmr_collection.search(query)\n",
    "\n",
    "for collection in collections[0:3]:\n",
    "    print(f\"concept-id: {collection['meta']['concept-id']}\\n\" +\n",
    "          f\"Title: {collection['umm']['EntryTitle']}\\n\" +\n",
    "          f\"Abstract: {collection['umm']['Abstract']}\\n\")"
   ]
  },
  {
   "cell_type": "code",
   "execution_count": 10,
   "id": "baking-execution",
   "metadata": {},
   "outputs": [
    {
     "name": "stdout",
     "output_type": "stream",
     "text": [
      "Total granules found: 126 \n",
      "\n"
     ]
    },
    {
     "data": {
      "text/html": [
       "\n",
       "        <p>\n",
       "          <b>Id</b>: ATL03_20181014001049_02350102_004_01.h5<BR>\n",
       "          <b>Collection</b>: {'EntryTitle': 'ATLAS/ICESat-2 L2A Global Geolocated Photon Data V004'}<BR>\n",
       "          <b>Spatial coverage</b>: {'HorizontalSpatialDomain': {'Orbit': {'AscendingCrossing': -127.0482205607256, 'StartLatitude': 27.0, 'StartDirection': 'A', 'EndLatitude': 59.5, 'EndDirection': 'A'}}}<BR>\n",
       "          <b>Temporal coverage</b>: {'RangeDateTime': {'BeginningDateTime': '2018-10-14T00:10:49.722Z', 'EndingDateTime': '2018-10-14T00:19:19.918Z'}}<BR>\n",
       "          <b>Size(MB):</b> 1764.5729866027832 <BR>\n",
       "          <b>Data</b>: <a href=\"https://data.nsidc.earthdatacloud.nasa.gov/nsidc-cumulus-prod-protected/ATLAS/ATL03/004/2018/10/14/ATL03_20181014001049_02350102_004_01.h5\" target=\"_blank\">https://data.nsidc.earthdatacloud.nasa.gov/nsidc-cumulus-prod-protected/ATLAS/ATL03/004/2018/10/14/ATL03_20181014001049_02350102_004_01.h5</a><BR><a href=\"s3://nsidc-cumulus-prod-protected/ATLAS/ATL03/004/2018/10/14/ATL03_20181014001049_02350102_004_01.h5\" target=\"_blank\">s3://nsidc-cumulus-prod-protected/ATLAS/ATL03/004/2018/10/14/ATL03_20181014001049_02350102_004_01.h5</a><BR><BR>\n",
       "          <span><img src=\"https://data.nsidc.earthdatacloud.nasa.gov/nsidc-cumulus-prod-public/ATLAS/ATL03/004/2018/10/14/ATL03_20181014001049_02350102_004_01_BRW.default.default1.jpg\" width=\"340px\" /><img src=\"https://data.nsidc.earthdatacloud.nasa.gov/nsidc-cumulus-prod-public/ATLAS/ATL03/004/2018/10/14/ATL03_20181014001049_02350102_004_01_BRW.default.default2.jpg\" width=\"340px\" /></span>\n",
       "        </p>\n",
       "        "
      ],
      "text/plain": [
       "\n",
       "        Id: ATL03_20181014001049_02350102_004_01.h5\n",
       "        Collection: {'EntryTitle': 'ATLAS/ICESat-2 L2A Global Geolocated Photon Data V004'}\n",
       "        Spatial coverage: {'HorizontalSpatialDomain': {'Orbit': {'AscendingCrossing': -127.0482205607256, 'StartLatitude': 27.0, 'StartDirection': 'A', 'EndLatitude': 59.5, 'EndDirection': 'A'}}}\n",
       "        Temporal coverage: {'RangeDateTime': {'BeginningDateTime': '2018-10-14T00:10:49.722Z', 'EndingDateTime': '2018-10-14T00:19:19.918Z'}}\n",
       "        Size(MB): 1764.5729866027832\n",
       "        Data: ['https://data.nsidc.earthdatacloud.nasa.gov/nsidc-cumulus-prod-protected/ATLAS/ATL03/004/2018/10/14/ATL03_20181014001049_02350102_004_01.h5', 's3://nsidc-cumulus-prod-protected/ATLAS/ATL03/004/2018/10/14/ATL03_20181014001049_02350102_004_01.h5']\n",
       "\n",
       "        "
      ]
     },
     "metadata": {},
     "output_type": "display_data"
    },
    {
     "data": {
      "text/html": [
       "\n",
       "        <p>\n",
       "          <b>Id</b>: ATL03_20181015124359_02580106_004_01.h5<BR>\n",
       "          <b>Collection</b>: {'EntryTitle': 'ATLAS/ICESat-2 L2A Global Geolocated Photon Data V004'}<BR>\n",
       "          <b>Spatial coverage</b>: {'HorizontalSpatialDomain': {'Orbit': {'AscendingCrossing': 49.70324528818096, 'StartLatitude': 59.5, 'StartDirection': 'D', 'EndLatitude': 27.0, 'EndDirection': 'D'}}}<BR>\n",
       "          <b>Temporal coverage</b>: {'RangeDateTime': {'BeginningDateTime': '2018-10-15T12:43:57.696Z', 'EndingDateTime': '2018-10-15T12:52:28.274Z'}}<BR>\n",
       "          <b>Size(MB):</b> 276.2403841018677 <BR>\n",
       "          <b>Data</b>: <a href=\"https://data.nsidc.earthdatacloud.nasa.gov/nsidc-cumulus-prod-protected/ATLAS/ATL03/004/2018/10/15/ATL03_20181015124359_02580106_004_01.h5\" target=\"_blank\">https://data.nsidc.earthdatacloud.nasa.gov/nsidc-cumulus-prod-protected/ATLAS/ATL03/004/2018/10/15/ATL03_20181015124359_02580106_004_01.h5</a><BR><a href=\"s3://nsidc-cumulus-prod-protected/ATLAS/ATL03/004/2018/10/15/ATL03_20181015124359_02580106_004_01.h5\" target=\"_blank\">s3://nsidc-cumulus-prod-protected/ATLAS/ATL03/004/2018/10/15/ATL03_20181015124359_02580106_004_01.h5</a><BR><BR>\n",
       "          <span><img src=\"https://data.nsidc.earthdatacloud.nasa.gov/nsidc-cumulus-prod-public/ATLAS/ATL03/004/2018/10/15/ATL03_20181015124359_02580106_004_01_BRW.default.default1.jpg\" width=\"340px\" /><img src=\"https://data.nsidc.earthdatacloud.nasa.gov/nsidc-cumulus-prod-public/ATLAS/ATL03/004/2018/10/15/ATL03_20181015124359_02580106_004_01_BRW.default.default2.jpg\" width=\"340px\" /></span>\n",
       "        </p>\n",
       "        "
      ],
      "text/plain": [
       "\n",
       "        Id: ATL03_20181015124359_02580106_004_01.h5\n",
       "        Collection: {'EntryTitle': 'ATLAS/ICESat-2 L2A Global Geolocated Photon Data V004'}\n",
       "        Spatial coverage: {'HorizontalSpatialDomain': {'Orbit': {'AscendingCrossing': 49.70324528818096, 'StartLatitude': 59.5, 'StartDirection': 'D', 'EndLatitude': 27.0, 'EndDirection': 'D'}}}\n",
       "        Temporal coverage: {'RangeDateTime': {'BeginningDateTime': '2018-10-15T12:43:57.696Z', 'EndingDateTime': '2018-10-15T12:52:28.274Z'}}\n",
       "        Size(MB): 276.2403841018677\n",
       "        Data: ['https://data.nsidc.earthdatacloud.nasa.gov/nsidc-cumulus-prod-protected/ATLAS/ATL03/004/2018/10/15/ATL03_20181015124359_02580106_004_01.h5', 's3://nsidc-cumulus-prod-protected/ATLAS/ATL03/004/2018/10/15/ATL03_20181015124359_02580106_004_01.h5']\n",
       "\n",
       "        "
      ]
     },
     "metadata": {},
     "output_type": "display_data"
    },
    {
     "data": {
      "text/html": [
       "\n",
       "        <p>\n",
       "          <b>Id</b>: ATL03_20181018000228_02960102_004_01.h5<BR>\n",
       "          <b>Collection</b>: {'EntryTitle': 'ATLAS/ICESat-2 L2A Global Geolocated Photon Data V004'}<BR>\n",
       "          <b>Spatial coverage</b>: {'HorizontalSpatialDomain': {'Orbit': {'AscendingCrossing': -127.82682215638665, 'StartLatitude': 27.0, 'StartDirection': 'A', 'EndLatitude': 59.5, 'EndDirection': 'A'}}}<BR>\n",
       "          <b>Temporal coverage</b>: {'RangeDateTime': {'BeginningDateTime': '2018-10-18T00:02:28.717Z', 'EndingDateTime': '2018-10-18T00:10:58.903Z'}}<BR>\n",
       "          <b>Size(MB):</b> 877.0574979782104 <BR>\n",
       "          <b>Data</b>: <a href=\"https://data.nsidc.earthdatacloud.nasa.gov/nsidc-cumulus-prod-protected/ATLAS/ATL03/004/2018/10/18/ATL03_20181018000228_02960102_004_01.h5\" target=\"_blank\">https://data.nsidc.earthdatacloud.nasa.gov/nsidc-cumulus-prod-protected/ATLAS/ATL03/004/2018/10/18/ATL03_20181018000228_02960102_004_01.h5</a><BR><a href=\"s3://nsidc-cumulus-prod-protected/ATLAS/ATL03/004/2018/10/18/ATL03_20181018000228_02960102_004_01.h5\" target=\"_blank\">s3://nsidc-cumulus-prod-protected/ATLAS/ATL03/004/2018/10/18/ATL03_20181018000228_02960102_004_01.h5</a><BR><BR>\n",
       "          <span><img src=\"https://data.nsidc.earthdatacloud.nasa.gov/nsidc-cumulus-prod-public/ATLAS/ATL03/004/2018/10/18/ATL03_20181018000228_02960102_004_01_BRW.default.default1.jpg\" width=\"340px\" /><img src=\"https://data.nsidc.earthdatacloud.nasa.gov/nsidc-cumulus-prod-public/ATLAS/ATL03/004/2018/10/18/ATL03_20181018000228_02960102_004_01_BRW.default.default2.jpg\" width=\"340px\" /></span>\n",
       "        </p>\n",
       "        "
      ],
      "text/plain": [
       "\n",
       "        Id: ATL03_20181018000228_02960102_004_01.h5\n",
       "        Collection: {'EntryTitle': 'ATLAS/ICESat-2 L2A Global Geolocated Photon Data V004'}\n",
       "        Spatial coverage: {'HorizontalSpatialDomain': {'Orbit': {'AscendingCrossing': -127.82682215638665, 'StartLatitude': 27.0, 'StartDirection': 'A', 'EndLatitude': 59.5, 'EndDirection': 'A'}}}\n",
       "        Temporal coverage: {'RangeDateTime': {'BeginningDateTime': '2018-10-18T00:02:28.717Z', 'EndingDateTime': '2018-10-18T00:10:58.903Z'}}\n",
       "        Size(MB): 877.0574979782104\n",
       "        Data: ['https://data.nsidc.earthdatacloud.nasa.gov/nsidc-cumulus-prod-protected/ATLAS/ATL03/004/2018/10/18/ATL03_20181018000228_02960102_004_01.h5', 's3://nsidc-cumulus-prod-protected/ATLAS/ATL03/004/2018/10/18/ATL03_20181018000228_02960102_004_01.h5']\n",
       "\n",
       "        "
      ]
     },
     "metadata": {},
     "output_type": "display_data"
    }
   ],
   "source": [
    "# now that we have the concept-id for our ATL03 in the cloud we do the same thing we did with ATL03 hosted at\n",
    "from cmr_serializer import QueryResult\n",
    "# NSIDC but using the cloud concept-id\n",
    "# Jeneau ice sheet\n",
    "query = {'concept-id': 'C2027878642-NSIDC_CPRD',\n",
    "         'token': cmr_token,\n",
    "         'bounding_box': '-135.1977,58.3325,-133.3410,58.9839'}\n",
    "\n",
    "# Querying for ATL03 v3 using its concept-id and a bounding box\n",
    "results = granule.search(query, limit=1000)\n",
    "granules = QueryResult(results).items()\n",
    "\n",
    "print(f\"Total granules found: {len(results)} \\n\")\n",
    "\n",
    "# Print the first 3 granules\n",
    "for g in granules[0:3]:\n",
    "    display(g)\n",
    "    # print(g)"
   ]
  },
  {
   "cell_type": "markdown",
   "id": "5961fbdf-b472-4ac7-98e6-519c5b3b56f3",
   "metadata": {},
   "source": [
    "**NOTE**: Not all the data granules for NSIDC datasets have been migrated to S3. This might result in different counts between the NSIDC hosted data collections and the ones in AWS S3"
   ]
  },
  {
   "cell_type": "code",
   "execution_count": 16,
   "id": "8c566fc2-ff42-46c5-ae63-f584c1aa706d",
   "metadata": {},
   "outputs": [
    {
     "name": "stdout",
     "output_type": "stream",
     "text": [
      "['s3://nsidc-cumulus-prod-protected/ATLAS/ATL03/004/2018/10/14/ATL03_20181014001049_02350102_004_01.h5']\n",
      "['s3://nsidc-cumulus-prod-protected/ATLAS/ATL03/004/2018/10/15/ATL03_20181015124359_02580106_004_01.h5']\n",
      "['s3://nsidc-cumulus-prod-protected/ATLAS/ATL03/004/2018/10/18/ATL03_20181018000228_02960102_004_01.h5']\n",
      "['s3://nsidc-cumulus-prod-protected/ATLAS/ATL03/004/2018/11/05/ATL03_20181105113651_05780106_004_01.h5']\n",
      "['s3://nsidc-cumulus-prod-protected/ATLAS/ATL03/004/2018/11/07/ATL03_20181107225525_06160102_004_01.h5']\n",
      "['s3://nsidc-cumulus-prod-protected/ATLAS/ATL03/004/2018/11/09/ATL03_20181109112837_06390106_004_01.h5']\n",
      "['s3://nsidc-cumulus-prod-protected/ATLAS/ATL03/004/2018/11/11/ATL03_20181111224708_06770102_004_01.h5']\n",
      "['s3://nsidc-cumulus-prod-protected/ATLAS/ATL03/004/2018/11/15/ATL03_20181115223845_07380102_004_01.h5']\n",
      "['s3://nsidc-cumulus-prod-protected/ATLAS/ATL03/004/2018/12/04/ATL03_20181204101243_10200106_004_01.h5']\n",
      "['s3://nsidc-cumulus-prod-protected/ATLAS/ATL03/004/2018/12/06/ATL03_20181206213114_10580102_004_01.h5']\n"
     ]
    }
   ],
   "source": [
    "# We can list the s3 links but \n",
    "for g in granules[0:10]:\n",
    "    print(g.data_links(only_s3=True))"
   ]
  },
  {
   "cell_type": "markdown",
   "id": "mathematical-vitamin",
   "metadata": {},
   "source": [
    "We note that our RelatedLinks array now contain links to AWS S3, these are the direct URIs for our data granules in the AWS us-west-2 region. "
   ]
  },
  {
   "cell_type": "markdown",
   "id": "covered-handle",
   "metadata": {},
   "source": [
    "## Data Access using AWS S3\n",
    "\n",
    "* **IMPORTANT**: This section will only work if this notebook is running on the AWS **us-west-2** zone\n",
    "\n",
    "There is more than one way of accessing data on AWS S3, either downloading it to your local machine using the official client library or using a python library. \n",
    "\n",
    "\n",
    "Related links:\n",
    "* [HDF in the Cloud challenges and solutions for scientific data](http://matthewrocklin.com/blog/work/2018/02/06/hdf-in-the-cloud)\n",
    "* [Cloud Storage (Amazon S3) HDF5 Connector](https://www.hdfgroup.org/solutions/enterprise-support/cloud-amazon-s3-storage-hdf5-connector/)\n"
   ]
  },
  {
   "cell_type": "code",
   "execution_count": 17,
   "id": "soviet-shannon",
   "metadata": {},
   "outputs": [],
   "source": [
    "# READ only temporary credentials\n",
    "import s3fs\n",
    "import h5py\n",
    "\n",
    "s3_cred = CMR_auth.get_s3_credentials()\n",
    "\n",
    "s3_fs = s3fs.S3FileSystem(key=s3_cred['accessKeyId'],\n",
    "                          secret=s3_cred['secretAccessKey'],\n",
    "                          token=s3_cred['sessionToken'])\n",
    "\n",
    "# Now you could grab S3 links to your cloud instance (EC2, Hub etc) using:\n",
    "# s3_fs.get('s3://SOME_LOCATION/ATL03_20181015124359_02580106_004_01.h5', 'test.h5')"
   ]
  },
  {
   "cell_type": "markdown",
   "id": "1a29b8c4-f876-4d8f-8fc2-3e00fc83cafb",
   "metadata": {},
   "source": [
    "### We now have the propper credentials and file mapper to access the data within AWS us-west-2. "
   ]
  },
  {
   "cell_type": "code",
   "execution_count": null,
   "id": "other-nowhere",
   "metadata": {},
   "outputs": [],
   "source": [
    "with s3_fs.open('s3://nsidc-cumulus-prod-protected/ATLAS/ATL03/004/2018/10/15/ATL03_20181015124359_02580106_004_01.h5', 'rb') as s3f:\n",
    "    with h5py.File(s3f, 'r') as f:\n",
    "        print([key for key in f.keys()])"
   ]
  },
  {
   "cell_type": "markdown",
   "id": "imposed-valuation",
   "metadata": {},
   "source": [
    "### Using xarray to open files on S3\n",
    "\n",
    "ATL data is complex so xarray doesn't know how to extract the important bits out of it."
   ]
  },
  {
   "cell_type": "code",
   "execution_count": null,
   "id": "laden-combine",
   "metadata": {},
   "outputs": [],
   "source": [
    "import xarray\n",
    "\n",
    "with s3_fs.open('s3://nsidc-cumulus-prod-protected/ATLAS/ATL03/004/2018/10/15/ATL03_20181015124359_02580106_004_01.h5', 'rb') as s3f:\n",
    "    ds= xarray.open_dataset(s3f)\n",
    "    for varname in ds:\n",
    "        print(varname)\n",
    "ds"
   ]
  },
  {
   "cell_type": "markdown",
   "id": "noble-sense",
   "metadata": {},
   "source": [
    "### \"Downloading\" files on S3 using the official aws-cli library\n",
    "The quotes on downloading are because ideally you'll be working on an EC2 (virtual machine for short) instance on the us-west-2 region."
   ]
  },
  {
   "cell_type": "code",
   "execution_count": null,
   "id": "enormous-accountability",
   "metadata": {},
   "outputs": [],
   "source": []
  }
 ],
 "metadata": {
  "kernelspec": {
   "display_name": "Python 3 (ipykernel)",
   "language": "python",
   "name": "python3"
  },
  "language_info": {
   "codemirror_mode": {
    "name": "ipython",
    "version": 3
   },
   "file_extension": ".py",
   "mimetype": "text/x-python",
   "name": "python",
   "nbconvert_exporter": "python",
   "pygments_lexer": "ipython3",
   "version": "3.8.10"
  }
 },
 "nbformat": 4,
 "nbformat_minor": 5
}
