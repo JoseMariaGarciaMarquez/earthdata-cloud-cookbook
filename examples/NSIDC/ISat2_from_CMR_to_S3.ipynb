{
 "cells": [
  {
   "cell_type": "markdown",
   "id": "8d015e19-9571-4663-b6a1-8207af38005a",
   "metadata": {},
   "source": [
    "# Searching and Downloading NSIDC Cloud Collections\n",
    "\n",
    "## Requirements\n",
    "\n",
    "* [NASA Eartdata Login (EDL) credentials](https://urs.earthdata.nasa.gov/)\n",
    "* python libraries:\n",
    "  - aws-cli\n",
    "  - xarray\n",
    "  - fs-s3fs\n",
    "  - zarr\n",
    "  - [cmr](https://github.com/nasa/eo-metadata-tools/tree/master/CMR/python)\n",
    "      - [python-cmr](https://github.com/nsidc/python-cmr) (optional fallback) NSIDC fork\n",
    "\n",
    "## Querying CMR\n",
    "\n",
    "### Public collections\n",
    "\n",
    "### Private collections\n",
    "\n",
    "## Data Access using AWS S3\n",
    "\n",
    "### Downloading files on S3 using the official aws-cli library\n",
    "\n",
    "### Using xarray to open files on S3\n",
    "\n",
    "### Dask\n"
   ]
  },
  {
   "cell_type": "code",
   "execution_count": null,
   "id": "964ffd58-e573-4925-84de-60852b4ee321",
   "metadata": {},
   "outputs": [],
   "source": []
  }
 ],
 "metadata": {
  "kernelspec": {
   "display_name": "Python 3",
   "language": "python",
   "name": "python3"
  },
  "language_info": {
   "codemirror_mode": {
    "name": "ipython",
    "version": 3
   },
   "file_extension": ".py",
   "mimetype": "text/x-python",
   "name": "python",
   "nbconvert_exporter": "python",
   "pygments_lexer": "ipython3",
   "version": "3.9.5"
  }
 },
 "nbformat": 4,
 "nbformat_minor": 5
}
