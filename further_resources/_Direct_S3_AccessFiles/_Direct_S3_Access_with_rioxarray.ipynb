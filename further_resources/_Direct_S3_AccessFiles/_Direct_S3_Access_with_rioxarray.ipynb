{
  "metadata": {
    "kernelspec": {
      "name": "python3",
      "language": "python",
      "display_name": "Python 3"
    }
  },
  "cells": [
    {
      "cell_type": "code",
      "metadata": {},
      "source": [
        "import requests\n",
        "import subprocess\n",
        "import os\n",
        "import boto3\n",
        "from satsearch import Search\n",
        "from datetime import datetime\n",
        "import pandas as pd\n",
        "import xarray\n",
        "import rasterio\n",
        "import rioxarray\n",
        "from rasterio.plot import show\n",
        "from rasterio.session import AWSSession\n",
        "import pickle\n",
        "import matplotlib.pyplot as plt\n",
        "%matplotlib inline\n",
        "import hvplot.xarray\n",
        "import holoviews as hv"
      ],
      "id": "double-aggregate",
      "execution_count": null,
      "outputs": []
    },
    {
      "cell_type": "markdown",
      "metadata": {},
      "source": [
        "## Get and Set s3 Credentials"
      ],
      "id": "4a77cf49"
    },
    {
      "cell_type": "code",
      "metadata": {},
      "source": [
        "def get_temp_creds():\n",
        "    temp_creds_url = 'https://lpdaac.earthdata.nasa.gov/s3credentials'\n",
        "    return requests.get(temp_creds_url).json()"
      ],
      "id": "super-simon",
      "execution_count": null,
      "outputs": []
    },
    {
      "cell_type": "code",
      "metadata": {},
      "source": [
        "temp_creds_req = get_temp_creds()\n",
        "#temp_creds_req"
      ],
      "id": "threatened-classification",
      "execution_count": null,
      "outputs": []
    },
    {
      "cell_type": "code",
      "metadata": {},
      "source": [
        "session = boto3.Session(aws_access_key_id=temp_creds_req['accessKeyId'], \n",
        "                        aws_secret_access_key=temp_creds_req['secretAccessKey'],\n",
        "                        aws_session_token=temp_creds_req['sessionToken'],\n",
        "                        region_name='us-west-2')"
      ],
      "id": "married-intelligence",
      "execution_count": null,
      "outputs": []
    },
    {
      "cell_type": "code",
      "metadata": {},
      "source": [
        "rio_env = rasterio.Env(AWSSession(session), \n",
        "                       GDAL_DISABLE_READDIR_ON_OPEN='TRUE', \n",
        "                       CPL_VSIL_CURL_ALLOWED_EXTENSIONS='tif', \n",
        "                       VSI_CACHE=True, \n",
        "                       region_name='us-west-2',\n",
        "                       GDAL_HTTP_COOKIEFILE=os.path.expanduser('~/cookies.txt'),\n",
        "                       GDAL_HTTP_COOKIEJAR=os.path.expanduser('~/cookies.txt'))\n",
        "rio_env.__enter__()"
      ],
      "id": "internal-premium",
      "execution_count": null,
      "outputs": []
    },
    {
      "cell_type": "markdown",
      "metadata": {},
      "source": [
        "## Specify s3 and HTTPS URLS for Single File Access"
      ],
      "id": "5c18d07e"
    },
    {
      "cell_type": "code",
      "metadata": {},
      "source": [
        "nasa_hls_s3_url = 's3://lp-prod-protected/HLSS30.015/HLS.S30.T13TGF.2020191T172901.v1.5.B04.tif'\n",
        "\n",
        "nasa_hls_http_url = 'https://lpdaac.earthdata.nasa.gov/lp-prod-protected/HLSS30.015/HLS.S30.T13TGF.2020191T172901.v1.5.B04.tif'"
      ],
      "id": "arabic-flavor",
      "execution_count": null,
      "outputs": []
    },
    {
      "cell_type": "markdown",
      "metadata": {},
      "source": [
        "## Read Single HLS Tile\n",
        "\n",
        "### s3 Data Access - Read Single File"
      ],
      "id": "b541f0c4"
    },
    {
      "cell_type": "code",
      "metadata": {},
      "source": [
        "%%time\n",
        "with rioxarray.open_rasterio(nasa_hls_s3_url, chunks=True) as src:\n",
        "    ds = src.squeeze('band', drop=True)\n",
        "    print(ds)\n",
        "    fig, ax = plt.subplots(figsize=(8,8))\n",
        "    show(ds, cmap='viridis', ax=ax)"
      ],
      "id": "civic-plenty",
      "execution_count": null,
      "outputs": []
    },
    {
      "cell_type": "markdown",
      "metadata": {},
      "source": [
        "### HTTPS Data Access - Read Single File"
      ],
      "id": "dbc43c21"
    },
    {
      "cell_type": "code",
      "metadata": {},
      "source": [
        "%%time\n",
        "with rioxarray.open_rasterio(nasa_hls_http_url, chunks=True) as src:\n",
        "    ds = src.squeeze('band', drop=True)\n",
        "    print(ds)\n",
        "    fig, ax = plt.subplots(figsize=(8,8))\n",
        "    show(ds, cmap='viridis', ax=ax)"
      ],
      "id": "exotic-speed",
      "execution_count": null,
      "outputs": []
    },
    {
      "cell_type": "markdown",
      "metadata": {},
      "source": [
        "------------------------------------------------------------------------\n",
        "\n",
        "### s3 Data Access - Read and Clip Single HLS Tile"
      ],
      "id": "d4d439ca"
    },
    {
      "cell_type": "code",
      "metadata": {},
      "source": [
        "# Load polygon from disc\n",
        "with open('./data/fsUTM', \"rb\") as poly_file:\n",
        "    fsUTM = pickle.load(poly_file)"
      ],
      "id": "popular-finish",
      "execution_count": null,
      "outputs": []
    },
    {
      "cell_type": "code",
      "metadata": {},
      "source": [
        "%%time\n",
        "with rioxarray.open_rasterio(nasa_hls_s3_url, chunks=True) as src:\n",
        "    ds_clipped = src.squeeze('band', drop=True).rio.clip([fsUTM])\n",
        "    print(ds_clipped)\n",
        "    fig, ax = plt.subplots(figsize=(8,8))\n",
        "    show(ds_clipped, cmap='viridis', ax=ax)"
      ],
      "id": "waiting-kentucky",
      "execution_count": null,
      "outputs": []
    },
    {
      "cell_type": "markdown",
      "metadata": {},
      "source": [
        "### HTTPS Data Access - Read and Clip Single HLS Tile"
      ],
      "id": "75bbf659"
    },
    {
      "cell_type": "code",
      "metadata": {},
      "source": [
        "%%time\n",
        "with rioxarray.open_rasterio(nasa_hls_http_url, chunks=True) as src:\n",
        "    ds_clipped = src.squeeze('band', drop=True).rio.clip([fsUTM])\n",
        "    print(ds_clipped)\n",
        "    fig, ax = plt.subplots(figsize=(8,8))\n",
        "    show(ds_clipped, cmap='viridis', ax=ax)"
      ],
      "id": "moved-cabinet",
      "execution_count": null,
      "outputs": []
    },
    {
      "cell_type": "markdown",
      "metadata": {},
      "source": [
        "------------------------------------------------------------------------\n",
        "\n",
        "## Read HLS Time Series - `s3` vs `HTTPS` access\n",
        "\n",
        "### s3 Data Access\n",
        "\n",
        "**Pull URLS from static file. URL point to directly to assets within an `s3` bucket**"
      ],
      "id": "ab491f49"
    },
    {
      "cell_type": "code",
      "metadata": {},
      "source": [
        "with open('./data/files.txt') as txt:\n",
        "    files = [l.strip() for l in txt.readlines()]"
      ],
      "id": "flush-corporation",
      "execution_count": null,
      "outputs": []
    },
    {
      "cell_type": "code",
      "metadata": {},
      "source": [
        "files"
      ],
      "id": "right-grocery",
      "execution_count": null,
      "outputs": []
    },
    {
      "cell_type": "markdown",
      "metadata": {},
      "source": [
        "**Use list of `s3` links to create `gdalbuildvrt` string with AWS credentials for `subprocces.call`**"
      ],
      "id": "f4b752e9"
    },
    {
      "cell_type": "code",
      "metadata": {},
      "source": [
        "build_vrt = f\"gdalbuildvrt data/stack.vrt -separate -input_file_list data/files.txt --config AWS_ACCESS_KEY_ID {temp_creds_req['accessKeyId']} --config AWS_SECRET_ACCESS_KEY {temp_creds_req['secretAccessKey']} --config AWS_SESSION_TOKEN {temp_creds_req['sessionToken']} --config GDAL_DISABLE_READDIR_ON_OPEN TRUE\"\n",
        "#build_vrt"
      ],
      "id": "impressive-course",
      "execution_count": null,
      "outputs": []
    },
    {
      "cell_type": "markdown",
      "metadata": {},
      "source": [
        "**Execute gdalbuildvrt to construct a vrt on disk from the `s3` links**"
      ],
      "id": "7a72d9d3"
    },
    {
      "cell_type": "code",
      "metadata": {},
      "source": [
        "%%time\n",
        "subprocess.call(build_vrt, shell=True)"
      ],
      "id": "controversial-console",
      "execution_count": null,
      "outputs": []
    },
    {
      "cell_type": "code",
      "metadata": {},
      "source": [
        "#files_s3 = [f.replace('/vsis3/', 's3://') for f in files]\n",
        "#files_s3"
      ],
      "id": "sized-parker",
      "execution_count": null,
      "outputs": []
    },
    {
      "cell_type": "markdown",
      "metadata": {},
      "source": [
        "**Read vrt in as xarray with dask backing**"
      ],
      "id": "df4a9bb4"
    },
    {
      "cell_type": "code",
      "metadata": {},
      "source": [
        "%%time\n",
        "chunks=dict(band=1, x=1024, y=1024)\n",
        "red = rioxarray.open_rasterio('./data/stack.vrt', chunks=chunks)\n",
        "#red = rioxarray.open_rasterio('./data/stack.vrt')\n",
        "red = red.rename({'band':'time'})\n",
        "red['time'] = [datetime.strptime(x.split('.')[-5].split('T')[0], '%Y%j') for x in files]\n",
        "red"
      ],
      "id": "fewer-gather",
      "execution_count": null,
      "outputs": []
    },
    {
      "cell_type": "markdown",
      "metadata": {},
      "source": [
        "### Clip the data to the field boundary (i.e., fsUTM) and load data into memory"
      ],
      "id": "4faf0772"
    },
    {
      "cell_type": "code",
      "metadata": {},
      "source": [
        "%%time\n",
        "red_clipped = red.rio.clip([fsUTM]).load()\n",
        "red_clipped"
      ],
      "id": "proved-division",
      "execution_count": null,
      "outputs": []
    },
    {
      "cell_type": "markdown",
      "metadata": {},
      "source": [
        "### Plot the clipped time series"
      ],
      "id": "6592f87a"
    },
    {
      "cell_type": "code",
      "metadata": {},
      "source": [
        "red_clipped.hvplot.image(x='x', y='y', width=800, height=600, colorbar=True)"
      ],
      "id": "blocked-throw",
      "execution_count": null,
      "outputs": []
    },
    {
      "cell_type": "markdown",
      "metadata": {},
      "source": [
        "### HTTPS Data Access"
      ],
      "id": "e109ae5d"
    },
    {
      "cell_type": "code",
      "metadata": {},
      "source": [
        "files_https = [f.replace('/vsis3/', '/vsicurl/https://lpdaac.earthdata.nasa.gov/') for f in files]"
      ],
      "id": "informal-awareness",
      "execution_count": null,
      "outputs": []
    },
    {
      "cell_type": "code",
      "metadata": {},
      "source": [
        "build_https_vrt = f\"gdalbuildvrt data/stack_https.vrt -separate -input_file_list data/files_https.txt --config GDAL_HTTP_COOKIEFILE {os.path.expanduser('~/cookies.txt')} --config GDAL_HTTP_COOKIEJAR {os.path.expanduser('~/cookies.txt')} --config GDAL_DISABLE_READDIR_ON_OPEN TRUE\"\n",
        "#build_https_vrt"
      ],
      "id": "painful-grain",
      "execution_count": null,
      "outputs": []
    },
    {
      "cell_type": "markdown",
      "metadata": {},
      "source": [
        "**Execute gdalbuildvrt to construct a vrt on disk from the `HTTPS` links**"
      ],
      "id": "689ad9ed"
    },
    {
      "cell_type": "code",
      "metadata": {},
      "source": [
        "%%time\n",
        "subprocess.call(build_https_vrt, shell=True)"
      ],
      "id": "third-month",
      "execution_count": null,
      "outputs": []
    },
    {
      "cell_type": "markdown",
      "metadata": {},
      "source": [
        "**Read vrt in as xarray with dask backing**"
      ],
      "id": "b69674f9"
    },
    {
      "cell_type": "code",
      "metadata": {},
      "source": [
        "%%time\n",
        "chunks=dict(band=1, x=1024, y=1024)\n",
        "red_https = rioxarray.open_rasterio('./data/stack_https.vrt', chunks=chunks)\n",
        "#red_https = rioxarray.open_rasterio('./data/stack.vrt')\n",
        "red_https = red_https.rename({'band':'time'})\n",
        "red_https['time'] = [datetime.strptime(x.split('.')[-5].split('T')[0], '%Y%j') for x in files]\n",
        "red_https"
      ],
      "id": "progressive-decline",
      "execution_count": null,
      "outputs": []
    },
    {
      "cell_type": "markdown",
      "metadata": {},
      "source": [
        "### Clip the data to the field boundary (i.e., fsUTM) and load data into memory"
      ],
      "id": "0abd9820"
    },
    {
      "cell_type": "code",
      "metadata": {},
      "source": [
        "%%time\n",
        "red_https_clipped = red_https.rio.clip([fsUTM]).load()\n",
        "red_https_clipped"
      ],
      "id": "increased-france",
      "execution_count": null,
      "outputs": []
    },
    {
      "cell_type": "code",
      "metadata": {},
      "source": [
        "rio_env.__exit__()"
      ],
      "id": "unnecessary-knitting",
      "execution_count": null,
      "outputs": []
    }
  ],
  "nbformat": 4,
  "nbformat_minor": 5
}